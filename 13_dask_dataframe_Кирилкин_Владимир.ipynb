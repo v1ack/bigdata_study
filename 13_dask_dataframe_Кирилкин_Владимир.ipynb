{
 "cells": [
  {
   "cell_type": "markdown",
   "metadata": {
    "id": "v9ZcV-c4c1RA"
   },
   "source": [
    "# Dask DataFrame"
   ]
  },
  {
   "cell_type": "markdown",
   "metadata": {
    "id": "zVBr3Uw9c1RI"
   },
   "source": [
    "Материалы: \n",
    "* Макрушин С.В. Лекция 13: Dask DataFrame\n",
    "* https://docs.dask.org/en/latest/dataframe.html\n",
    "* Jesse C. Daniel. Data Science with Python and Dask. "
   ]
  },
  {
   "cell_type": "markdown",
   "metadata": {
    "id": "JLzns2w2c1RK"
   },
   "source": [
    "## Задачи для совместного разбора"
   ]
  },
  {
   "cell_type": "markdown",
   "metadata": {
    "id": "K0EDb6Dyc1RL"
   },
   "source": [
    "1. Считать данные из файлов в каталоге `accounts`. Содержат ли какие-либо из столбцов пропуски?"
   ]
  },
  {
   "cell_type": "markdown",
   "metadata": {
    "id": "qxfoqOFPc1RL"
   },
   "source": [
    "2. Подсчитать количество раз, которое то или иное имя встретилось в выборке. Вывести самое часто встречающееся имя."
   ]
  },
  {
   "cell_type": "markdown",
   "metadata": {
    "id": "NaT4UOtQc1RM"
   },
   "source": [
    "3. Создать новую колонку, которая является результатом от деления значения `amount` нацело на 100, если `amount` > 100, и нулём в противном случае."
   ]
  },
  {
   "cell_type": "markdown",
   "metadata": {
    "id": "90NxHHjzc1RN"
   },
   "source": [
    "## Лабораторная работа 13"
   ]
  },
  {
   "cell_type": "markdown",
   "metadata": {
    "id": "PeEEsZ4Uc1RO"
   },
   "source": [
    "__При решении данных задач не подразумевается использования других коллекций, кроме `dask.DataFrame`, если в задании явно не указано обратное.__"
   ]
  },
  {
   "cell_type": "code",
   "execution_count": 2,
   "metadata": {
    "id": "mlNw4sEmc1RP"
   },
   "outputs": [],
   "source": [
    "import dask.dataframe as dd\n",
    "import pandas as pd\n",
    "import dask.bag as db\n",
    "import json"
   ]
  },
  {
   "cell_type": "markdown",
   "metadata": {
    "id": "HmxaaR-Ac1RR"
   },
   "source": [
    "1. В архиве `recipes_full.zip` находятся файлы, содержащие информацию об рецептах блюд. Загрузите данные из файлов этого архива в виде `dd.DataFrame` с названием `recipes`. Укажите, что в столбце `submitted` содержатся даты."
   ]
  },
  {
   "cell_type": "code",
   "source": [
    "recipes = dd.read_csv(\n",
    "    './recipes_full/recipes_*.csv',\n",
    "    dtype={'minutes': 'float64', 'n_steps': 'float64'},\n",
    "    parse_dates=True\n",
    ")\n",
    "recipes[\"submitted\"] = dd.to_datetime(recipes['submitted'])\n",
    "recipes = recipes.set_index('id')"
   ],
   "metadata": {
    "id": "trEUXkIjd2VL"
   },
   "execution_count": 3,
   "outputs": []
  },
  {
   "cell_type": "markdown",
   "metadata": {
    "id": "Ft6SVGfIc1RS"
   },
   "source": [
    "2. Выведите метаинформацию о таблице: `npartitions` и типы столбцов."
   ]
  },
  {
   "cell_type": "code",
   "execution_count": 51,
   "outputs": [
    {
     "data": {
      "text/plain": "['__abs__',\n '__add__',\n '__and__',\n '__array__',\n '__array_ufunc__',\n '__array_wrap__',\n '__await__',\n '__bool__',\n '__class__',\n '__complex__',\n '__contains__',\n '__dask_graph__',\n '__dask_keys__',\n '__dask_layers__',\n '__dask_optimize__',\n '__dask_postcompute__',\n '__dask_postpersist__',\n '__dask_scheduler__',\n '__dask_tokenize__',\n '__delattr__',\n '__delitem__',\n '__dict__',\n '__dir__',\n '__doc__',\n '__eq__',\n '__float__',\n '__floordiv__',\n '__format__',\n '__ge__',\n '__getattr__',\n '__getattribute__',\n '__getitem__',\n '__getstate__',\n '__gt__',\n '__hash__',\n '__init__',\n '__init_subclass__',\n '__int__',\n '__invert__',\n '__iter__',\n '__le__',\n '__len__',\n '__long__',\n '__lt__',\n '__mod__',\n '__module__',\n '__mul__',\n '__ne__',\n '__neg__',\n '__new__',\n '__nonzero__',\n '__or__',\n '__pow__',\n '__radd__',\n '__rand__',\n '__reduce__',\n '__reduce_ex__',\n '__repr__',\n '__rfloordiv__',\n '__rmod__',\n '__rmul__',\n '__ror__',\n '__rpow__',\n '__rsub__',\n '__rtruediv__',\n '__rxor__',\n '__setattr__',\n '__setitem__',\n '__setstate__',\n '__sizeof__',\n '__slots__',\n '__str__',\n '__sub__',\n '__subclasshook__',\n '__truediv__',\n '__weakref__',\n '__xor__',\n '_accessors',\n '_args',\n '_bind_comparison_method',\n '_bind_operator',\n '_bind_operator_method',\n '_constructor',\n '_contains_index_name',\n '_cum_agg',\n '_describe_1d',\n '_describe_nonnumeric_1d',\n '_describe_numeric',\n '_elemwise',\n '_get_binary_operator',\n '_get_numeric_data',\n '_get_unary_operator',\n '_head',\n '_ipython_key_completions_',\n '_is_column_label_reference',\n '_is_index_level_reference',\n '_is_partition_type',\n '_kurtosis_1d',\n '_kurtosis_numeric',\n '_meta',\n '_meta_nonempty',\n '_name',\n '_partition_type',\n '_partitions',\n '_rebuild',\n '_reduction_agg',\n '_repr_data',\n '_repr_divisions',\n '_repr_html_',\n '_scalarfunc',\n '_select_columns_or_index',\n '_skew_1d',\n '_skew_numeric',\n '_token_prefix',\n '_validate_axis',\n '_validate_chunks',\n '_var_1d',\n '_var_mixed',\n '_var_numeric',\n '_var_timedeltas',\n 'abs',\n 'add',\n 'add_prefix',\n 'add_suffix',\n 'align',\n 'all',\n 'any',\n 'append',\n 'apply',\n 'applymap',\n 'assign',\n 'astype',\n 'attrs',\n 'axes',\n 'bfill',\n 'categorize',\n 'clear_divisions',\n 'clip',\n 'clip_lower',\n 'clip_upper',\n 'columns',\n 'combine',\n 'combine_first',\n 'compute',\n 'contributor_id',\n 'copy',\n 'corr',\n 'count',\n 'cov',\n 'cummax',\n 'cummin',\n 'cumprod',\n 'cumsum',\n 'dask',\n 'describe',\n 'description',\n 'diff',\n 'div',\n 'divide',\n 'divisions',\n 'dot',\n 'drop',\n 'drop_duplicates',\n 'dropna',\n 'dtypes',\n 'empty',\n 'eq',\n 'eval',\n 'explode',\n 'ffill',\n 'fillna',\n 'first',\n 'floordiv',\n 'ge',\n 'get_dtype_counts',\n 'get_ftype_counts',\n 'get_partition',\n 'groupby',\n 'gt',\n 'head',\n 'idxmax',\n 'idxmin',\n 'iloc',\n 'index',\n 'info',\n 'isin',\n 'isna',\n 'isnull',\n 'items',\n 'iterrows',\n 'itertuples',\n 'join',\n 'known_divisions',\n 'kurtosis',\n 'last',\n 'le',\n 'loc',\n 'lt',\n 'map_overlap',\n 'map_partitions',\n 'mask',\n 'max',\n 'mean',\n 'melt',\n 'memory_usage',\n 'memory_usage_per_partition',\n 'merge',\n 'min',\n 'minutes',\n 'mod',\n 'mode',\n 'month',\n 'mul',\n 'n_ingredients',\n 'n_steps',\n 'name',\n 'ndim',\n 'ne',\n 'nlargest',\n 'notnull',\n 'npartitions',\n 'nsmallest',\n 'nunique_approx',\n 'partitions',\n 'persist',\n 'pipe',\n 'pivot_table',\n 'pop',\n 'pow',\n 'prod',\n 'product',\n 'quantile',\n 'query',\n 'radd',\n 'random_split',\n 'rdiv',\n 'reduction',\n 'rename',\n 'repartition',\n 'replace',\n 'resample',\n 'reset_index',\n 'rfloordiv',\n 'rmod',\n 'rmul',\n 'rolling',\n 'round',\n 'rpow',\n 'rsub',\n 'rtruediv',\n 'sample',\n 'select_dtypes',\n 'sem',\n 'set_index',\n 'shape',\n 'shift',\n 'shuffle',\n 'size',\n 'skew',\n 'sort_values',\n 'squeeze',\n 'std',\n 'sub',\n 'submitted',\n 'sum',\n 'tail',\n 'to_bag',\n 'to_csv',\n 'to_dask_array',\n 'to_delayed',\n 'to_hdf',\n 'to_html',\n 'to_json',\n 'to_orc',\n 'to_parquet',\n 'to_records',\n 'to_sql',\n 'to_string',\n 'to_timestamp',\n 'truediv',\n 'values',\n 'var',\n 'visualize',\n 'where']"
     },
     "execution_count": 51,
     "metadata": {},
     "output_type": "execute_result"
    }
   ],
   "source": [
    "dir(recipes)"
   ],
   "metadata": {
    "collapsed": false,
    "pycharm": {
     "name": "#%%\n"
    }
   }
  },
  {
   "cell_type": "code",
   "source": [
    "recipes"
   ],
   "metadata": {
    "colab": {
     "base_uri": "https://localhost:8080/",
     "height": 272
    },
    "id": "bAmbnq5CtYIW",
    "outputId": "59aefafa-c6c3-4e9e-d716-3419a77fa4e5"
   },
   "execution_count": 5,
   "outputs": [
    {
     "data": {
      "text/plain": "Dask DataFrame Structure:\n                  name  minutes contributor_id       submitted  n_steps description n_ingredients\nnpartitions=24                                                                                   \n38              object  float64          int64  datetime64[ns]  float64      object         int64\n190639             ...      ...            ...             ...      ...         ...           ...\n...                ...      ...            ...             ...      ...         ...           ...\n2120964            ...      ...            ...             ...      ...         ...           ...\n2231636            ...      ...            ...             ...      ...         ...           ...\nDask Name: sort_index, 266 tasks",
      "text/html": "<div><strong>Dask DataFrame Structure:</strong></div>\n<div>\n<style scoped>\n    .dataframe tbody tr th:only-of-type {\n        vertical-align: middle;\n    }\n\n    .dataframe tbody tr th {\n        vertical-align: top;\n    }\n\n    .dataframe thead th {\n        text-align: right;\n    }\n</style>\n<table border=\"1\" class=\"dataframe\">\n  <thead>\n    <tr style=\"text-align: right;\">\n      <th></th>\n      <th>name</th>\n      <th>minutes</th>\n      <th>contributor_id</th>\n      <th>submitted</th>\n      <th>n_steps</th>\n      <th>description</th>\n      <th>n_ingredients</th>\n    </tr>\n    <tr>\n      <th>npartitions=24</th>\n      <th></th>\n      <th></th>\n      <th></th>\n      <th></th>\n      <th></th>\n      <th></th>\n      <th></th>\n    </tr>\n  </thead>\n  <tbody>\n    <tr>\n      <th>38</th>\n      <td>object</td>\n      <td>float64</td>\n      <td>int64</td>\n      <td>datetime64[ns]</td>\n      <td>float64</td>\n      <td>object</td>\n      <td>int64</td>\n    </tr>\n    <tr>\n      <th>190639</th>\n      <td>...</td>\n      <td>...</td>\n      <td>...</td>\n      <td>...</td>\n      <td>...</td>\n      <td>...</td>\n      <td>...</td>\n    </tr>\n    <tr>\n      <th>...</th>\n      <td>...</td>\n      <td>...</td>\n      <td>...</td>\n      <td>...</td>\n      <td>...</td>\n      <td>...</td>\n      <td>...</td>\n    </tr>\n    <tr>\n      <th>2120964</th>\n      <td>...</td>\n      <td>...</td>\n      <td>...</td>\n      <td>...</td>\n      <td>...</td>\n      <td>...</td>\n      <td>...</td>\n    </tr>\n    <tr>\n      <th>2231636</th>\n      <td>...</td>\n      <td>...</td>\n      <td>...</td>\n      <td>...</td>\n      <td>...</td>\n      <td>...</td>\n      <td>...</td>\n    </tr>\n  </tbody>\n</table>\n</div>\n<div>Dask Name: sort_index, 266 tasks</div>"
     },
     "execution_count": 5,
     "metadata": {},
     "output_type": "execute_result"
    }
   ]
  },
  {
   "cell_type": "code",
   "execution_count": 52,
   "outputs": [
    {
     "data": {
      "text/plain": "Dask DataFrame Structure:\n               minutes contributor_id  n_steps n_ingredients    month\nnpartitions=1                                                        \n               float64        float64  float64       float64  float64\n                   ...            ...      ...           ...      ...\nDask Name: describe-numeric, 913 tasks",
      "text/html": "<div><strong>Dask DataFrame Structure:</strong></div>\n<div>\n<style scoped>\n    .dataframe tbody tr th:only-of-type {\n        vertical-align: middle;\n    }\n\n    .dataframe tbody tr th {\n        vertical-align: top;\n    }\n\n    .dataframe thead th {\n        text-align: right;\n    }\n</style>\n<table border=\"1\" class=\"dataframe\">\n  <thead>\n    <tr style=\"text-align: right;\">\n      <th></th>\n      <th>minutes</th>\n      <th>contributor_id</th>\n      <th>n_steps</th>\n      <th>n_ingredients</th>\n      <th>month</th>\n    </tr>\n    <tr>\n      <th>npartitions=1</th>\n      <th></th>\n      <th></th>\n      <th></th>\n      <th></th>\n      <th></th>\n    </tr>\n  </thead>\n  <tbody>\n    <tr>\n      <th></th>\n      <td>float64</td>\n      <td>float64</td>\n      <td>float64</td>\n      <td>float64</td>\n      <td>float64</td>\n    </tr>\n    <tr>\n      <th></th>\n      <td>...</td>\n      <td>...</td>\n      <td>...</td>\n      <td>...</td>\n      <td>...</td>\n    </tr>\n  </tbody>\n</table>\n</div>\n<div>Dask Name: describe-numeric, 913 tasks</div>"
     },
     "execution_count": 52,
     "metadata": {},
     "output_type": "execute_result"
    }
   ],
   "source": [
    "recipes.describe()"
   ],
   "metadata": {
    "collapsed": false,
    "pycharm": {
     "name": "#%%\n"
    }
   }
  },
  {
   "cell_type": "markdown",
   "metadata": {
    "id": "ZOoEP5wYc1RS"
   },
   "source": [
    "3. Выведите на экран 5 первых строк таблицы. Выведите на экран 5 последних строк таблицы. В случае сообщения об ошибки объясните причину и исправьте ошибку."
   ]
  },
  {
   "cell_type": "code",
   "source": [
    "recipes.head()"
   ],
   "metadata": {
    "colab": {
     "base_uri": "https://localhost:8080/",
     "height": 237
    },
    "id": "v_0DHnistdf9",
    "outputId": "e9d35b71-9030-4f0a-b56f-eaafd6c37f61"
   },
   "execution_count": 6,
   "outputs": [
    {
     "data": {
      "text/plain": "                                 name  minutes  contributor_id  submitted  \\\nid                                                                          \n38  low fat berry blue frozen dessert   1485.0            1533 1999-08-09   \n39                            biryani    265.0            1567 1999-08-29   \n40                      best lemonade     35.0            1566 1999-09-05   \n41     carina s tofu vegetable kebabs   1460.0            1586 1999-09-03   \n43               best blackbottom pie    140.0           34879 1999-08-21   \n\n    n_steps                                        description  n_ingredients  \nid                                                                             \n38     13.0  this is yummy and low-fat, it always turns out...              4  \n39     17.0                                       delhi, india             26  \n40      8.0  this is from one of my  first good house keepi...              6  \n41     18.0  this dish is best prepared a day in advance to...             15  \n43     35.0                          sweet, chocolatey,  yummy             15  ",
      "text/html": "<div>\n<style scoped>\n    .dataframe tbody tr th:only-of-type {\n        vertical-align: middle;\n    }\n\n    .dataframe tbody tr th {\n        vertical-align: top;\n    }\n\n    .dataframe thead th {\n        text-align: right;\n    }\n</style>\n<table border=\"1\" class=\"dataframe\">\n  <thead>\n    <tr style=\"text-align: right;\">\n      <th></th>\n      <th>name</th>\n      <th>minutes</th>\n      <th>contributor_id</th>\n      <th>submitted</th>\n      <th>n_steps</th>\n      <th>description</th>\n      <th>n_ingredients</th>\n    </tr>\n    <tr>\n      <th>id</th>\n      <th></th>\n      <th></th>\n      <th></th>\n      <th></th>\n      <th></th>\n      <th></th>\n      <th></th>\n    </tr>\n  </thead>\n  <tbody>\n    <tr>\n      <th>38</th>\n      <td>low fat berry blue frozen dessert</td>\n      <td>1485.0</td>\n      <td>1533</td>\n      <td>1999-08-09</td>\n      <td>13.0</td>\n      <td>this is yummy and low-fat, it always turns out...</td>\n      <td>4</td>\n    </tr>\n    <tr>\n      <th>39</th>\n      <td>biryani</td>\n      <td>265.0</td>\n      <td>1567</td>\n      <td>1999-08-29</td>\n      <td>17.0</td>\n      <td>delhi, india</td>\n      <td>26</td>\n    </tr>\n    <tr>\n      <th>40</th>\n      <td>best lemonade</td>\n      <td>35.0</td>\n      <td>1566</td>\n      <td>1999-09-05</td>\n      <td>8.0</td>\n      <td>this is from one of my  first good house keepi...</td>\n      <td>6</td>\n    </tr>\n    <tr>\n      <th>41</th>\n      <td>carina s tofu vegetable kebabs</td>\n      <td>1460.0</td>\n      <td>1586</td>\n      <td>1999-09-03</td>\n      <td>18.0</td>\n      <td>this dish is best prepared a day in advance to...</td>\n      <td>15</td>\n    </tr>\n    <tr>\n      <th>43</th>\n      <td>best blackbottom pie</td>\n      <td>140.0</td>\n      <td>34879</td>\n      <td>1999-08-21</td>\n      <td>35.0</td>\n      <td>sweet, chocolatey,  yummy</td>\n      <td>15</td>\n    </tr>\n  </tbody>\n</table>\n</div>"
     },
     "execution_count": 6,
     "metadata": {},
     "output_type": "execute_result"
    }
   ]
  },
  {
   "cell_type": "code",
   "source": [
    "recipes.tail()"
   ],
   "metadata": {
    "colab": {
     "base_uri": "https://localhost:8080/",
     "height": 368
    },
    "id": "Dp76FpUWwblT",
    "outputId": "a99224b1-5d26-4919-c6e6-702e87875f0b"
   },
   "execution_count": 7,
   "outputs": [
    {
     "data": {
      "text/plain": "                                                      name  minutes  \\\nid                                                                    \n2231632                   zwiebelsuppe soldiers depp somma     13.0   \n2231633            vaisiu kesar pimlico dominick backwoods     37.0   \n2231634  chez basico bracha vijs scape uomo marathon pe...     14.0   \n2231635  lumpia tunisia whisper medford monsieur presen...     42.0   \n2231636  brodet casava celery kahwe hall bauernsalat al...     16.0   \n\n         contributor_id  submitted  n_steps  \\\nid                                            \n2231632          226867 2004-01-08      5.0   \n2231633           11176 2003-07-27      2.0   \n2231634          362919 1997-07-01      5.0   \n2231635           60260 2021-03-18      5.0   \n2231636          857184 2014-06-23      4.0   \n\n                                               description  n_ingredients  \nid                                                                         \n2231632  this is a very good easy recipe that was so am...              3  \n2231633  posted for zaar world tour 5. from http://www....              4  \n2231634  this is a simple, yet tasty way to make creame...              2  \n2231635  my family loves fish & chips from the 'chippie...              2  \n2231636  this chicken is filled with mushrooms, onions,...              3  ",
      "text/html": "<div>\n<style scoped>\n    .dataframe tbody tr th:only-of-type {\n        vertical-align: middle;\n    }\n\n    .dataframe tbody tr th {\n        vertical-align: top;\n    }\n\n    .dataframe thead th {\n        text-align: right;\n    }\n</style>\n<table border=\"1\" class=\"dataframe\">\n  <thead>\n    <tr style=\"text-align: right;\">\n      <th></th>\n      <th>name</th>\n      <th>minutes</th>\n      <th>contributor_id</th>\n      <th>submitted</th>\n      <th>n_steps</th>\n      <th>description</th>\n      <th>n_ingredients</th>\n    </tr>\n    <tr>\n      <th>id</th>\n      <th></th>\n      <th></th>\n      <th></th>\n      <th></th>\n      <th></th>\n      <th></th>\n      <th></th>\n    </tr>\n  </thead>\n  <tbody>\n    <tr>\n      <th>2231632</th>\n      <td>zwiebelsuppe soldiers depp somma</td>\n      <td>13.0</td>\n      <td>226867</td>\n      <td>2004-01-08</td>\n      <td>5.0</td>\n      <td>this is a very good easy recipe that was so am...</td>\n      <td>3</td>\n    </tr>\n    <tr>\n      <th>2231633</th>\n      <td>vaisiu kesar pimlico dominick backwoods</td>\n      <td>37.0</td>\n      <td>11176</td>\n      <td>2003-07-27</td>\n      <td>2.0</td>\n      <td>posted for zaar world tour 5. from http://www....</td>\n      <td>4</td>\n    </tr>\n    <tr>\n      <th>2231634</th>\n      <td>chez basico bracha vijs scape uomo marathon pe...</td>\n      <td>14.0</td>\n      <td>362919</td>\n      <td>1997-07-01</td>\n      <td>5.0</td>\n      <td>this is a simple, yet tasty way to make creame...</td>\n      <td>2</td>\n    </tr>\n    <tr>\n      <th>2231635</th>\n      <td>lumpia tunisia whisper medford monsieur presen...</td>\n      <td>42.0</td>\n      <td>60260</td>\n      <td>2021-03-18</td>\n      <td>5.0</td>\n      <td>my family loves fish &amp; chips from the 'chippie...</td>\n      <td>2</td>\n    </tr>\n    <tr>\n      <th>2231636</th>\n      <td>brodet casava celery kahwe hall bauernsalat al...</td>\n      <td>16.0</td>\n      <td>857184</td>\n      <td>2014-06-23</td>\n      <td>4.0</td>\n      <td>this chicken is filled with mushrooms, onions,...</td>\n      <td>3</td>\n    </tr>\n  </tbody>\n</table>\n</div>"
     },
     "execution_count": 7,
     "metadata": {},
     "output_type": "execute_result"
    }
   ]
  },
  {
   "cell_type": "markdown",
   "metadata": {
    "id": "VqR3lfXOc1RT"
   },
   "source": [
    "4. Посчитайте, сколько строк содержит каждый из блоков (partitions)."
   ]
  },
  {
   "cell_type": "code",
   "source": [
    "recipes.map_partitions(len).compute()"
   ],
   "metadata": {
    "id": "43P0i83Hx4wL"
   },
   "execution_count": 8,
   "outputs": [
    {
     "data": {
      "text/plain": "0     107601\n1      46808\n2     141880\n3       3010\n4     208648\n5      49676\n6       6241\n7     156724\n8     156804\n9      52990\n10      5981\n11    149991\n12    149116\n13     67595\n14      6179\n15    198595\n16    158366\n17      7303\n18     33902\n19    222405\n20      4366\n21    173768\n22     13015\n23    110673\ndtype: int64"
     },
     "execution_count": 8,
     "metadata": {},
     "output_type": "execute_result"
    }
   ]
  },
  {
   "cell_type": "markdown",
   "metadata": {
    "id": "1O2LhYAGc1RT"
   },
   "source": [
    "5. Найдите максимум в столбце `n_steps`. Визуализируйте граф вычислений для этой задачи. Прокомментируйте логику работы `dask` при решении данной задачи."
   ]
  },
  {
   "cell_type": "code",
   "source": [
    "maxi = recipes['n_steps'].max(axis=0)"
   ],
   "metadata": {
    "id": "MhDlPpYT1BIx"
   },
   "execution_count": 9,
   "outputs": []
  },
  {
   "cell_type": "code",
   "source": [
    "maxi.compute()"
   ],
   "metadata": {
    "colab": {
     "base_uri": "https://localhost:8080/"
    },
    "id": "jk2vskjB1fnx",
    "outputId": "48c8ca3e-b5c5-4967-f14a-4037c85540b2"
   },
   "execution_count": 10,
   "outputs": [
    {
     "data": {
      "text/plain": "145.0"
     },
     "execution_count": 10,
     "metadata": {},
     "output_type": "execute_result"
    }
   ]
  },
  {
   "cell_type": "code",
   "source": [
    "maxi.visualize()  # по идее так но не работает"
   ],
   "metadata": {
    "colab": {
     "base_uri": "https://localhost:8080/",
     "height": 897
    },
    "id": "EjFWSd_g2fxB",
    "outputId": "9c9018eb-cbcc-4804-e1f0-f4c7ecf63bb1"
   },
   "execution_count": 13,
   "outputs": [
    {
     "ename": "ExecutableNotFound",
     "evalue": "failed to execute WindowsPath('dot'), make sure the Graphviz executables are on your systems' PATH",
     "output_type": "error",
     "traceback": [
      "\u001B[1;31m---------------------------------------------------------------------------\u001B[0m",
      "\u001B[1;31mFileNotFoundError\u001B[0m                         Traceback (most recent call last)",
      "\u001B[1;32mc:\\users\\admin\\pycharmprojects\\ml_course\\venv\\lib\\site-packages\\graphviz\\backend\\execute.py\u001B[0m in \u001B[0;36mrun_check\u001B[1;34m(cmd, input_lines, encoding, capture_output, quiet, **kwargs)\u001B[0m\n\u001B[0;32m     82\u001B[0m             \u001B[1;32massert\u001B[0m \u001B[0miter\u001B[0m\u001B[1;33m(\u001B[0m\u001B[0minput_lines\u001B[0m\u001B[1;33m)\u001B[0m \u001B[1;32mis\u001B[0m \u001B[0minput_lines\u001B[0m\u001B[1;33m\u001B[0m\u001B[1;33m\u001B[0m\u001B[0m\n\u001B[1;32m---> 83\u001B[1;33m             \u001B[0mproc\u001B[0m \u001B[1;33m=\u001B[0m \u001B[0m_run_input_lines\u001B[0m\u001B[1;33m(\u001B[0m\u001B[0mcmd\u001B[0m\u001B[1;33m,\u001B[0m \u001B[0minput_lines\u001B[0m\u001B[1;33m,\u001B[0m \u001B[0mkwargs\u001B[0m\u001B[1;33m=\u001B[0m\u001B[0mkwargs\u001B[0m\u001B[1;33m)\u001B[0m\u001B[1;33m\u001B[0m\u001B[1;33m\u001B[0m\u001B[0m\n\u001B[0m\u001B[0;32m     84\u001B[0m         \u001B[1;32melse\u001B[0m\u001B[1;33m:\u001B[0m\u001B[1;33m\u001B[0m\u001B[1;33m\u001B[0m\u001B[0m\n",
      "\u001B[1;32mc:\\users\\admin\\pycharmprojects\\ml_course\\venv\\lib\\site-packages\\graphviz\\backend\\execute.py\u001B[0m in \u001B[0;36m_run_input_lines\u001B[1;34m(cmd, input_lines, kwargs)\u001B[0m\n\u001B[0;32m    102\u001B[0m \u001B[1;32mdef\u001B[0m \u001B[0m_run_input_lines\u001B[0m\u001B[1;33m(\u001B[0m\u001B[0mcmd\u001B[0m\u001B[1;33m,\u001B[0m \u001B[0minput_lines\u001B[0m\u001B[1;33m,\u001B[0m \u001B[1;33m*\u001B[0m\u001B[1;33m,\u001B[0m \u001B[0mkwargs\u001B[0m\u001B[1;33m)\u001B[0m\u001B[1;33m:\u001B[0m\u001B[1;33m\u001B[0m\u001B[1;33m\u001B[0m\u001B[0m\n\u001B[1;32m--> 103\u001B[1;33m     \u001B[0mpopen\u001B[0m \u001B[1;33m=\u001B[0m \u001B[0msubprocess\u001B[0m\u001B[1;33m.\u001B[0m\u001B[0mPopen\u001B[0m\u001B[1;33m(\u001B[0m\u001B[0mcmd\u001B[0m\u001B[1;33m,\u001B[0m \u001B[0mstdin\u001B[0m\u001B[1;33m=\u001B[0m\u001B[0msubprocess\u001B[0m\u001B[1;33m.\u001B[0m\u001B[0mPIPE\u001B[0m\u001B[1;33m,\u001B[0m \u001B[1;33m**\u001B[0m\u001B[0mkwargs\u001B[0m\u001B[1;33m)\u001B[0m\u001B[1;33m\u001B[0m\u001B[1;33m\u001B[0m\u001B[0m\n\u001B[0m\u001B[0;32m    104\u001B[0m \u001B[1;33m\u001B[0m\u001B[0m\n",
      "\u001B[1;32mC:\\Program Files\\Python38\\lib\\subprocess.py\u001B[0m in \u001B[0;36m__init__\u001B[1;34m(self, args, bufsize, executable, stdin, stdout, stderr, preexec_fn, close_fds, shell, cwd, env, universal_newlines, startupinfo, creationflags, restore_signals, start_new_session, pass_fds, encoding, errors, text)\u001B[0m\n\u001B[0;32m    853\u001B[0m \u001B[1;33m\u001B[0m\u001B[0m\n\u001B[1;32m--> 854\u001B[1;33m             self._execute_child(args, executable, preexec_fn, close_fds,\n\u001B[0m\u001B[0;32m    855\u001B[0m                                 \u001B[0mpass_fds\u001B[0m\u001B[1;33m,\u001B[0m \u001B[0mcwd\u001B[0m\u001B[1;33m,\u001B[0m \u001B[0menv\u001B[0m\u001B[1;33m,\u001B[0m\u001B[1;33m\u001B[0m\u001B[1;33m\u001B[0m\u001B[0m\n",
      "\u001B[1;32mC:\\Program Files\\Python38\\lib\\subprocess.py\u001B[0m in \u001B[0;36m_execute_child\u001B[1;34m(self, args, executable, preexec_fn, close_fds, pass_fds, cwd, env, startupinfo, creationflags, shell, p2cread, p2cwrite, c2pread, c2pwrite, errread, errwrite, unused_restore_signals, unused_start_new_session)\u001B[0m\n\u001B[0;32m   1306\u001B[0m             \u001B[1;32mtry\u001B[0m\u001B[1;33m:\u001B[0m\u001B[1;33m\u001B[0m\u001B[1;33m\u001B[0m\u001B[0m\n\u001B[1;32m-> 1307\u001B[1;33m                 hp, ht, pid, tid = _winapi.CreateProcess(executable, args,\n\u001B[0m\u001B[0;32m   1308\u001B[0m                                          \u001B[1;31m# no special security\u001B[0m\u001B[1;33m\u001B[0m\u001B[1;33m\u001B[0m\u001B[1;33m\u001B[0m\u001B[0m\n",
      "\u001B[1;31mFileNotFoundError\u001B[0m: [WinError 2] Не удается найти указанный файл",
      "\nThe above exception was the direct cause of the following exception:\n",
      "\u001B[1;31mExecutableNotFound\u001B[0m                        Traceback (most recent call last)",
      "\u001B[1;32m<ipython-input-13-91b10dedef32>\u001B[0m in \u001B[0;36m<module>\u001B[1;34m\u001B[0m\n\u001B[1;32m----> 1\u001B[1;33m \u001B[0mmaxi\u001B[0m\u001B[1;33m.\u001B[0m\u001B[0mvisualize\u001B[0m\u001B[1;33m(\u001B[0m\u001B[1;33m)\u001B[0m\u001B[1;33m\u001B[0m\u001B[1;33m\u001B[0m\u001B[0m\n\u001B[0m",
      "\u001B[1;32mc:\\users\\admin\\pycharmprojects\\ml_course\\venv\\lib\\site-packages\\dask\\base.py\u001B[0m in \u001B[0;36mvisualize\u001B[1;34m(self, filename, format, optimize_graph, **kwargs)\u001B[0m\n\u001B[0;32m    212\u001B[0m         \u001B[0mhttps\u001B[0m\u001B[1;33m:\u001B[0m\u001B[1;33m//\u001B[0m\u001B[0mdocs\u001B[0m\u001B[1;33m.\u001B[0m\u001B[0mdask\u001B[0m\u001B[1;33m.\u001B[0m\u001B[0morg\u001B[0m\u001B[1;33m/\u001B[0m\u001B[0men\u001B[0m\u001B[1;33m/\u001B[0m\u001B[0mlatest\u001B[0m\u001B[1;33m/\u001B[0m\u001B[0moptimize\u001B[0m\u001B[1;33m.\u001B[0m\u001B[0mhtml\u001B[0m\u001B[1;33m\u001B[0m\u001B[1;33m\u001B[0m\u001B[0m\n\u001B[0;32m    213\u001B[0m         \"\"\"\n\u001B[1;32m--> 214\u001B[1;33m         return visualize(\n\u001B[0m\u001B[0;32m    215\u001B[0m             \u001B[0mself\u001B[0m\u001B[1;33m,\u001B[0m\u001B[1;33m\u001B[0m\u001B[1;33m\u001B[0m\u001B[0m\n\u001B[0;32m    216\u001B[0m             \u001B[0mfilename\u001B[0m\u001B[1;33m=\u001B[0m\u001B[0mfilename\u001B[0m\u001B[1;33m,\u001B[0m\u001B[1;33m\u001B[0m\u001B[1;33m\u001B[0m\u001B[0m\n",
      "\u001B[1;32mc:\\users\\admin\\pycharmprojects\\ml_course\\venv\\lib\\site-packages\\dask\\base.py\u001B[0m in \u001B[0;36mvisualize\u001B[1;34m(filename, optimize_graph, maxval, *args, **kwargs)\u001B[0m\n\u001B[0;32m    741\u001B[0m         \u001B[1;32mraise\u001B[0m \u001B[0mNotImplementedError\u001B[0m\u001B[1;33m(\u001B[0m\u001B[1;34m\"Unknown value color=%s\"\u001B[0m \u001B[1;33m%\u001B[0m \u001B[0mcolor\u001B[0m\u001B[1;33m)\u001B[0m\u001B[1;33m\u001B[0m\u001B[1;33m\u001B[0m\u001B[0m\n\u001B[0;32m    742\u001B[0m \u001B[1;33m\u001B[0m\u001B[0m\n\u001B[1;32m--> 743\u001B[1;33m     \u001B[1;32mreturn\u001B[0m \u001B[0mdot_graph\u001B[0m\u001B[1;33m(\u001B[0m\u001B[0mdsk\u001B[0m\u001B[1;33m,\u001B[0m \u001B[0mfilename\u001B[0m\u001B[1;33m=\u001B[0m\u001B[0mfilename\u001B[0m\u001B[1;33m,\u001B[0m \u001B[1;33m**\u001B[0m\u001B[0mkwargs\u001B[0m\u001B[1;33m)\u001B[0m\u001B[1;33m\u001B[0m\u001B[1;33m\u001B[0m\u001B[0m\n\u001B[0m\u001B[0;32m    744\u001B[0m \u001B[1;33m\u001B[0m\u001B[0m\n\u001B[0;32m    745\u001B[0m \u001B[1;33m\u001B[0m\u001B[0m\n",
      "\u001B[1;32mc:\\users\\admin\\pycharmprojects\\ml_course\\venv\\lib\\site-packages\\dask\\dot.py\u001B[0m in \u001B[0;36mdot_graph\u001B[1;34m(dsk, filename, format, **kwargs)\u001B[0m\n\u001B[0;32m    269\u001B[0m     \"\"\"\n\u001B[0;32m    270\u001B[0m     \u001B[0mg\u001B[0m \u001B[1;33m=\u001B[0m \u001B[0mto_graphviz\u001B[0m\u001B[1;33m(\u001B[0m\u001B[0mdsk\u001B[0m\u001B[1;33m,\u001B[0m \u001B[1;33m**\u001B[0m\u001B[0mkwargs\u001B[0m\u001B[1;33m)\u001B[0m\u001B[1;33m\u001B[0m\u001B[1;33m\u001B[0m\u001B[0m\n\u001B[1;32m--> 271\u001B[1;33m     \u001B[1;32mreturn\u001B[0m \u001B[0mgraphviz_to_file\u001B[0m\u001B[1;33m(\u001B[0m\u001B[0mg\u001B[0m\u001B[1;33m,\u001B[0m \u001B[0mfilename\u001B[0m\u001B[1;33m,\u001B[0m \u001B[0mformat\u001B[0m\u001B[1;33m)\u001B[0m\u001B[1;33m\u001B[0m\u001B[1;33m\u001B[0m\u001B[0m\n\u001B[0m\u001B[0;32m    272\u001B[0m \u001B[1;33m\u001B[0m\u001B[0m\n\u001B[0;32m    273\u001B[0m \u001B[1;33m\u001B[0m\u001B[0m\n",
      "\u001B[1;32mc:\\users\\admin\\pycharmprojects\\ml_course\\venv\\lib\\site-packages\\dask\\dot.py\u001B[0m in \u001B[0;36mgraphviz_to_file\u001B[1;34m(g, filename, format)\u001B[0m\n\u001B[0;32m    286\u001B[0m         \u001B[0mformat\u001B[0m \u001B[1;33m=\u001B[0m \u001B[1;34m\"png\"\u001B[0m\u001B[1;33m\u001B[0m\u001B[1;33m\u001B[0m\u001B[0m\n\u001B[0;32m    287\u001B[0m \u001B[1;33m\u001B[0m\u001B[0m\n\u001B[1;32m--> 288\u001B[1;33m     \u001B[0mdata\u001B[0m \u001B[1;33m=\u001B[0m \u001B[0mg\u001B[0m\u001B[1;33m.\u001B[0m\u001B[0mpipe\u001B[0m\u001B[1;33m(\u001B[0m\u001B[0mformat\u001B[0m\u001B[1;33m=\u001B[0m\u001B[0mformat\u001B[0m\u001B[1;33m)\u001B[0m\u001B[1;33m\u001B[0m\u001B[1;33m\u001B[0m\u001B[0m\n\u001B[0m\u001B[0;32m    289\u001B[0m     \u001B[1;32mif\u001B[0m \u001B[1;32mnot\u001B[0m \u001B[0mdata\u001B[0m\u001B[1;33m:\u001B[0m\u001B[1;33m\u001B[0m\u001B[1;33m\u001B[0m\u001B[0m\n\u001B[0;32m    290\u001B[0m         raise RuntimeError(\n",
      "\u001B[1;32mc:\\users\\admin\\pycharmprojects\\ml_course\\venv\\lib\\site-packages\\graphviz\\piping.py\u001B[0m in \u001B[0;36mpipe\u001B[1;34m(self, format, renderer, formatter, quiet, engine, encoding)\u001B[0m\n\u001B[0;32m     97\u001B[0m             \u001B[1;34m'<?xml version='\u001B[0m\u001B[1;33m\u001B[0m\u001B[1;33m\u001B[0m\u001B[0m\n\u001B[0;32m     98\u001B[0m         \"\"\"\n\u001B[1;32m---> 99\u001B[1;33m         return self._pipe_legacy(format,\n\u001B[0m\u001B[0;32m    100\u001B[0m                                  \u001B[0mrenderer\u001B[0m\u001B[1;33m=\u001B[0m\u001B[0mrenderer\u001B[0m\u001B[1;33m,\u001B[0m\u001B[1;33m\u001B[0m\u001B[1;33m\u001B[0m\u001B[0m\n\u001B[0;32m    101\u001B[0m                                  \u001B[0mformatter\u001B[0m\u001B[1;33m=\u001B[0m\u001B[0mformatter\u001B[0m\u001B[1;33m,\u001B[0m\u001B[1;33m\u001B[0m\u001B[1;33m\u001B[0m\u001B[0m\n",
      "\u001B[1;32mc:\\users\\admin\\pycharmprojects\\ml_course\\venv\\lib\\site-packages\\graphviz\\_tools.py\u001B[0m in \u001B[0;36mwrapper\u001B[1;34m(*args, **kwargs)\u001B[0m\n\u001B[0;32m    170\u001B[0m                               category=category)\n\u001B[0;32m    171\u001B[0m \u001B[1;33m\u001B[0m\u001B[0m\n\u001B[1;32m--> 172\u001B[1;33m             \u001B[1;32mreturn\u001B[0m \u001B[0mfunc\u001B[0m\u001B[1;33m(\u001B[0m\u001B[1;33m*\u001B[0m\u001B[0margs\u001B[0m\u001B[1;33m,\u001B[0m \u001B[1;33m**\u001B[0m\u001B[0mkwargs\u001B[0m\u001B[1;33m)\u001B[0m\u001B[1;33m\u001B[0m\u001B[1;33m\u001B[0m\u001B[0m\n\u001B[0m\u001B[0;32m    173\u001B[0m \u001B[1;33m\u001B[0m\u001B[0m\n\u001B[0;32m    174\u001B[0m         \u001B[1;32mreturn\u001B[0m \u001B[0mwrapper\u001B[0m\u001B[1;33m\u001B[0m\u001B[1;33m\u001B[0m\u001B[0m\n",
      "\u001B[1;32mc:\\users\\admin\\pycharmprojects\\ml_course\\venv\\lib\\site-packages\\graphviz\\piping.py\u001B[0m in \u001B[0;36m_pipe_legacy\u001B[1;34m(self, format, renderer, formatter, quiet, engine, encoding)\u001B[0m\n\u001B[0;32m    112\u001B[0m                      \u001B[0mengine\u001B[0m\u001B[1;33m:\u001B[0m \u001B[0mtyping\u001B[0m\u001B[1;33m.\u001B[0m\u001B[0mOptional\u001B[0m\u001B[1;33m[\u001B[0m\u001B[0mstr\u001B[0m\u001B[1;33m]\u001B[0m \u001B[1;33m=\u001B[0m \u001B[1;32mNone\u001B[0m\u001B[1;33m,\u001B[0m\u001B[1;33m\u001B[0m\u001B[1;33m\u001B[0m\u001B[0m\n\u001B[0;32m    113\u001B[0m                      encoding: typing.Optional[str] = None) -> typing.Union[bytes, str]:\n\u001B[1;32m--> 114\u001B[1;33m         return self._pipe_future(format,\n\u001B[0m\u001B[0;32m    115\u001B[0m                                  \u001B[0mrenderer\u001B[0m\u001B[1;33m=\u001B[0m\u001B[0mrenderer\u001B[0m\u001B[1;33m,\u001B[0m\u001B[1;33m\u001B[0m\u001B[1;33m\u001B[0m\u001B[0m\n\u001B[0;32m    116\u001B[0m                                  \u001B[0mformatter\u001B[0m\u001B[1;33m=\u001B[0m\u001B[0mformatter\u001B[0m\u001B[1;33m,\u001B[0m\u001B[1;33m\u001B[0m\u001B[1;33m\u001B[0m\u001B[0m\n",
      "\u001B[1;32mc:\\users\\admin\\pycharmprojects\\ml_course\\venv\\lib\\site-packages\\graphviz\\piping.py\u001B[0m in \u001B[0;36m_pipe_future\u001B[1;34m(self, format, renderer, formatter, quiet, engine, encoding)\u001B[0m\n\u001B[0;32m    149\u001B[0m             \u001B[1;32melse\u001B[0m\u001B[1;33m:\u001B[0m\u001B[1;33m\u001B[0m\u001B[1;33m\u001B[0m\u001B[0m\n\u001B[0;32m    150\u001B[0m                 \u001B[1;32mreturn\u001B[0m \u001B[0mraw\u001B[0m\u001B[1;33m.\u001B[0m\u001B[0mdecode\u001B[0m\u001B[1;33m(\u001B[0m\u001B[0mencoding\u001B[0m\u001B[1;33m)\u001B[0m\u001B[1;33m\u001B[0m\u001B[1;33m\u001B[0m\u001B[0m\n\u001B[1;32m--> 151\u001B[1;33m         \u001B[1;32mreturn\u001B[0m \u001B[0mself\u001B[0m\u001B[1;33m.\u001B[0m\u001B[0m_pipe_lines\u001B[0m\u001B[1;33m(\u001B[0m\u001B[1;33m*\u001B[0m\u001B[0margs\u001B[0m\u001B[1;33m,\u001B[0m \u001B[0minput_encoding\u001B[0m\u001B[1;33m=\u001B[0m\u001B[0mself\u001B[0m\u001B[1;33m.\u001B[0m\u001B[0mencoding\u001B[0m\u001B[1;33m,\u001B[0m \u001B[1;33m**\u001B[0m\u001B[0mkwargs\u001B[0m\u001B[1;33m)\u001B[0m\u001B[1;33m\u001B[0m\u001B[1;33m\u001B[0m\u001B[0m\n\u001B[0m",
      "\u001B[1;32mc:\\users\\admin\\pycharmprojects\\ml_course\\venv\\lib\\site-packages\\graphviz\\backend\\piping.py\u001B[0m in \u001B[0;36mpipe_lines\u001B[1;34m(engine, format, input_lines, input_encoding, renderer, formatter, quiet)\u001B[0m\n\u001B[0;32m    147\u001B[0m     \u001B[0mkwargs\u001B[0m \u001B[1;33m=\u001B[0m \u001B[1;33m{\u001B[0m\u001B[1;34m'input_lines'\u001B[0m\u001B[1;33m:\u001B[0m \u001B[1;33m(\u001B[0m\u001B[0mline\u001B[0m\u001B[1;33m.\u001B[0m\u001B[0mencode\u001B[0m\u001B[1;33m(\u001B[0m\u001B[0minput_encoding\u001B[0m\u001B[1;33m)\u001B[0m \u001B[1;32mfor\u001B[0m \u001B[0mline\u001B[0m \u001B[1;32min\u001B[0m \u001B[0minput_lines\u001B[0m\u001B[1;33m)\u001B[0m\u001B[1;33m}\u001B[0m\u001B[1;33m\u001B[0m\u001B[1;33m\u001B[0m\u001B[0m\n\u001B[0;32m    148\u001B[0m \u001B[1;33m\u001B[0m\u001B[0m\n\u001B[1;32m--> 149\u001B[1;33m     \u001B[0mproc\u001B[0m \u001B[1;33m=\u001B[0m \u001B[0mexecute\u001B[0m\u001B[1;33m.\u001B[0m\u001B[0mrun_check\u001B[0m\u001B[1;33m(\u001B[0m\u001B[0mcmd\u001B[0m\u001B[1;33m,\u001B[0m \u001B[0mcapture_output\u001B[0m\u001B[1;33m=\u001B[0m\u001B[1;32mTrue\u001B[0m\u001B[1;33m,\u001B[0m \u001B[0mquiet\u001B[0m\u001B[1;33m=\u001B[0m\u001B[0mquiet\u001B[0m\u001B[1;33m,\u001B[0m \u001B[1;33m**\u001B[0m\u001B[0mkwargs\u001B[0m\u001B[1;33m)\u001B[0m\u001B[1;33m\u001B[0m\u001B[1;33m\u001B[0m\u001B[0m\n\u001B[0m\u001B[0;32m    150\u001B[0m     \u001B[1;32mreturn\u001B[0m \u001B[0mproc\u001B[0m\u001B[1;33m.\u001B[0m\u001B[0mstdout\u001B[0m\u001B[1;33m\u001B[0m\u001B[1;33m\u001B[0m\u001B[0m\n\u001B[0;32m    151\u001B[0m \u001B[1;33m\u001B[0m\u001B[0m\n",
      "\u001B[1;32mc:\\users\\admin\\pycharmprojects\\ml_course\\venv\\lib\\site-packages\\graphviz\\backend\\execute.py\u001B[0m in \u001B[0;36mrun_check\u001B[1;34m(cmd, input_lines, encoding, capture_output, quiet, **kwargs)\u001B[0m\n\u001B[0;32m     86\u001B[0m     \u001B[1;32mexcept\u001B[0m \u001B[0mOSError\u001B[0m \u001B[1;32mas\u001B[0m \u001B[0me\u001B[0m\u001B[1;33m:\u001B[0m\u001B[1;33m\u001B[0m\u001B[1;33m\u001B[0m\u001B[0m\n\u001B[0;32m     87\u001B[0m         \u001B[1;32mif\u001B[0m \u001B[0me\u001B[0m\u001B[1;33m.\u001B[0m\u001B[0merrno\u001B[0m \u001B[1;33m==\u001B[0m \u001B[0merrno\u001B[0m\u001B[1;33m.\u001B[0m\u001B[0mENOENT\u001B[0m\u001B[1;33m:\u001B[0m\u001B[1;33m\u001B[0m\u001B[1;33m\u001B[0m\u001B[0m\n\u001B[1;32m---> 88\u001B[1;33m             \u001B[1;32mraise\u001B[0m \u001B[0mExecutableNotFound\u001B[0m\u001B[1;33m(\u001B[0m\u001B[0mcmd\u001B[0m\u001B[1;33m)\u001B[0m \u001B[1;32mfrom\u001B[0m \u001B[0me\u001B[0m\u001B[1;33m\u001B[0m\u001B[1;33m\u001B[0m\u001B[0m\n\u001B[0m\u001B[0;32m     89\u001B[0m         \u001B[1;32mraise\u001B[0m\u001B[1;33m\u001B[0m\u001B[1;33m\u001B[0m\u001B[0m\n\u001B[0;32m     90\u001B[0m \u001B[1;33m\u001B[0m\u001B[0m\n",
      "\u001B[1;31mExecutableNotFound\u001B[0m: failed to execute WindowsPath('dot'), make sure the Graphviz executables are on your systems' PATH"
     ]
    }
   ]
  },
  {
   "cell_type": "markdown",
   "metadata": {
    "id": "Z93Q5uGsc1RU"
   },
   "source": [
    "6. Посчитайте количество рецептов с группировкой по месяцам добавления отзыва в базу."
   ]
  },
  {
   "cell_type": "code",
   "source": [
    "recipes['month'] = recipes['submitted'].map(lambda x: x.month)"
   ],
   "metadata": {
    "id": "36syTSV73rSH"
   },
   "execution_count": 14,
   "outputs": []
  },
  {
   "cell_type": "code",
   "source": [
    "count_recipes = recipes.groupby('month').size().compute()\n",
    "count_recipes"
   ],
   "metadata": {
    "colab": {
     "base_uri": "https://localhost:8080/"
    },
    "id": "A9uP3c7N5hOk",
    "outputId": "85147c24-d596-493f-835e-d008514f4dc8"
   },
   "execution_count": 15,
   "outputs": [
    {
     "data": {
      "text/plain": "month\n1     193363\n2     173834\n3     192389\n4     186049\n5     192487\n6     184205\n7     189337\n8     187276\n9     181081\n10    187018\n11    180974\n12    183624\ndtype: int64"
     },
     "execution_count": 15,
     "metadata": {},
     "output_type": "execute_result"
    }
   ]
  },
  {
   "cell_type": "markdown",
   "metadata": {
    "id": "N8vJE017c1RU"
   },
   "source": [
    "7. Считайте файлы из архива `reviews_full.zip` (__ЛР12__) в виде `dask.bag`. Пользуясь результатом лабораторной работы 12, рассчитайте среднее значение оценок отзывов с группировкой по месяцам. После завершения всех вычислений преобразуйте результат к `pd.Series`."
   ]
  },
  {
   "cell_type": "code",
   "source": [
    "import re\n",
    "\n",
    "\n",
    "def add_rating(line):\n",
    "    res = json.loads(line[0])\n",
    "    ans = dict()\n",
    "    ans['rating'] = int(re.findall('reviews_(\\d)\\.json', line[1])[0])\n",
    "    ans['month'] = int(res['date'][5:7])\n",
    "    return ans"
   ],
   "metadata": {
    "id": "qnFL1o_v-z-u"
   },
   "execution_count": 34,
   "outputs": []
  },
  {
   "cell_type": "code",
   "source": [
    "reviews = db.read_text(\n",
    "    './reviews_full/reviews_*.json',\n",
    "    include_path=True\n",
    ").map(add_rating)"
   ],
   "metadata": {
    "id": "k0AEvzQv7RJg"
   },
   "execution_count": 32,
   "outputs": []
  },
  {
   "cell_type": "code",
   "source": [
    "reviews.take(1)"
   ],
   "metadata": {
    "colab": {
     "base_uri": "https://localhost:8080/"
    },
    "id": "eLIb39t5_E8b",
    "outputId": "b9cba4bf-449b-4fc5-f454-d875d5fa764c"
   },
   "execution_count": 33,
   "outputs": [
    {
     "data": {
      "text/plain": "({'rating': 0, 'month': 5},)"
     },
     "execution_count": 33,
     "metadata": {},
     "output_type": "execute_result"
    }
   ]
  },
  {
   "cell_type": "code",
   "execution_count": 40,
   "outputs": [],
   "source": [
    "rate_mean = reviews.foldby(\n",
    "    'month',\n",
    "    lambda t, x: (t[0] + 1, t[1] + x['rating']),\n",
    "    (0, 0),\n",
    "    lambda x, y: (x[0] + y[0], x[1] + y[1])\n",
    ").compute()"
   ],
   "metadata": {
    "collapsed": false,
    "pycharm": {
     "name": "#%%\n"
    }
   }
  },
  {
   "cell_type": "code",
   "execution_count": 50,
   "outputs": [
    {
     "data": {
      "text/plain": "    month      mean\n0       5  4.415401\n1       6  4.418419\n2      11  4.408829\n3       9  4.410661\n4      10  4.411452\n5       4  4.412259\n6       2  4.407135\n7       3  4.406911\n8      12  4.406908\n9       1  4.408553\n10      7  4.411717\n11      8  4.410822",
      "text/html": "<div>\n<style scoped>\n    .dataframe tbody tr th:only-of-type {\n        vertical-align: middle;\n    }\n\n    .dataframe tbody tr th {\n        vertical-align: top;\n    }\n\n    .dataframe thead th {\n        text-align: right;\n    }\n</style>\n<table border=\"1\" class=\"dataframe\">\n  <thead>\n    <tr style=\"text-align: right;\">\n      <th></th>\n      <th>month</th>\n      <th>mean</th>\n    </tr>\n  </thead>\n  <tbody>\n    <tr>\n      <th>0</th>\n      <td>5</td>\n      <td>4.415401</td>\n    </tr>\n    <tr>\n      <th>1</th>\n      <td>6</td>\n      <td>4.418419</td>\n    </tr>\n    <tr>\n      <th>2</th>\n      <td>11</td>\n      <td>4.408829</td>\n    </tr>\n    <tr>\n      <th>3</th>\n      <td>9</td>\n      <td>4.410661</td>\n    </tr>\n    <tr>\n      <th>4</th>\n      <td>10</td>\n      <td>4.411452</td>\n    </tr>\n    <tr>\n      <th>5</th>\n      <td>4</td>\n      <td>4.412259</td>\n    </tr>\n    <tr>\n      <th>6</th>\n      <td>2</td>\n      <td>4.407135</td>\n    </tr>\n    <tr>\n      <th>7</th>\n      <td>3</td>\n      <td>4.406911</td>\n    </tr>\n    <tr>\n      <th>8</th>\n      <td>12</td>\n      <td>4.406908</td>\n    </tr>\n    <tr>\n      <th>9</th>\n      <td>1</td>\n      <td>4.408553</td>\n    </tr>\n    <tr>\n      <th>10</th>\n      <td>7</td>\n      <td>4.411717</td>\n    </tr>\n    <tr>\n      <th>11</th>\n      <td>8</td>\n      <td>4.410822</td>\n    </tr>\n  </tbody>\n</table>\n</div>"
     },
     "execution_count": 50,
     "metadata": {},
     "output_type": "execute_result"
    }
   ],
   "source": [
    "means = [{'month':i[0], 'mean':i[1][1]/i[1][0]} for i in rate_mean]\n",
    "pd.DataFrame(means)"
   ],
   "metadata": {
    "collapsed": false,
    "pycharm": {
     "name": "#%%\n"
    }
   }
  },
  {
   "cell_type": "markdown",
   "metadata": {
    "id": "hLqq5RYDc1RV"
   },
   "source": [
    "8. Пользуясь результатами решения задач 6 и 7, создайте `pd.DataFrame`, содержащий два столбца: `mean_rating`, `recipes_count`"
   ]
  },
  {
   "cell_type": "code",
   "execution_count": 25,
   "metadata": {
    "colab": {
     "base_uri": "https://localhost:8080/",
     "height": 457
    },
    "id": "4n6IunW0c1RW",
    "outputId": "1013ee79-7fac-4bc8-e06d-929b72e7aec1"
   },
   "outputs": [
    {
     "data": {
      "text/plain": "       mean_rating  recipes_count\nmonth                            \n1         4.408553         193363\n2         4.407135         173834\n3         4.406911         192389\n4         4.412259         186049\n5         4.415401         192487\n6         4.418419         184205\n7         4.411717         189337\n8         4.410822         187276\n9         4.410661         181081\n10        4.411452         187018\n11        4.408829         180974\n12        4.406908         183624",
      "text/html": "<div>\n<style scoped>\n    .dataframe tbody tr th:only-of-type {\n        vertical-align: middle;\n    }\n\n    .dataframe tbody tr th {\n        vertical-align: top;\n    }\n\n    .dataframe thead th {\n        text-align: right;\n    }\n</style>\n<table border=\"1\" class=\"dataframe\">\n  <thead>\n    <tr style=\"text-align: right;\">\n      <th></th>\n      <th>mean_rating</th>\n      <th>recipes_count</th>\n    </tr>\n    <tr>\n      <th>month</th>\n      <th></th>\n      <th></th>\n    </tr>\n  </thead>\n  <tbody>\n    <tr>\n      <th>1</th>\n      <td>4.408553</td>\n      <td>193363</td>\n    </tr>\n    <tr>\n      <th>2</th>\n      <td>4.407135</td>\n      <td>173834</td>\n    </tr>\n    <tr>\n      <th>3</th>\n      <td>4.406911</td>\n      <td>192389</td>\n    </tr>\n    <tr>\n      <th>4</th>\n      <td>4.412259</td>\n      <td>186049</td>\n    </tr>\n    <tr>\n      <th>5</th>\n      <td>4.415401</td>\n      <td>192487</td>\n    </tr>\n    <tr>\n      <th>6</th>\n      <td>4.418419</td>\n      <td>184205</td>\n    </tr>\n    <tr>\n      <th>7</th>\n      <td>4.411717</td>\n      <td>189337</td>\n    </tr>\n    <tr>\n      <th>8</th>\n      <td>4.410822</td>\n      <td>187276</td>\n    </tr>\n    <tr>\n      <th>9</th>\n      <td>4.410661</td>\n      <td>181081</td>\n    </tr>\n    <tr>\n      <th>10</th>\n      <td>4.411452</td>\n      <td>187018</td>\n    </tr>\n    <tr>\n      <th>11</th>\n      <td>4.408829</td>\n      <td>180974</td>\n    </tr>\n    <tr>\n      <th>12</th>\n      <td>4.406908</td>\n      <td>183624</td>\n    </tr>\n  </tbody>\n</table>\n</div>"
     },
     "execution_count": 25,
     "metadata": {},
     "output_type": "execute_result"
    }
   ],
   "source": [
    "res = pd.DataFrame()\n",
    "res['mean_rating'] = means['mean']\n",
    "res['recipes_count'] = count_recipes\n",
    "res.sort_index()"
   ]
  },
  {
   "cell_type": "code",
   "execution_count": 53,
   "outputs": [],
   "source": [
    "d = pd.read_csv('reviews_sample.csv')"
   ],
   "metadata": {
    "collapsed": false,
    "pycharm": {
     "name": "#%%\n"
    }
   }
  },
  {
   "cell_type": "code",
   "execution_count": 56,
   "outputs": [
    {
     "data": {
      "text/plain": "0         Last week whole sides of frozen salmon fillet ...\n1         So simple and so tasty!  I used a yellow capsi...\n2         Very nice breakfast HH, easy to make and yummy...\n3         These are a favorite for the holidays and so e...\n4         Excellent soup!  The tomato flavor is just gre...\n                                ...                        \n126691    This recipe was great! I made it last night. I...\n126692    This recipe is outstanding. I followed the rec...\n126693    Well, we were not a crowd but it was a fabulou...\n126694    I have been a steak eater and dedicated BBQ gr...\n126695    Wonderful and simple to prepare seasoning blen...\nName: review, Length: 126696, dtype: object"
     },
     "execution_count": 56,
     "metadata": {},
     "output_type": "execute_result"
    }
   ],
   "source": [
    "d[\"review\"].map(lambda x:)"
   ],
   "metadata": {
    "collapsed": false,
    "pycharm": {
     "name": "#%%\n"
    }
   }
  }
 ],
 "metadata": {
  "kernelspec": {
   "display_name": "Python 3",
   "language": "python",
   "name": "python3"
  },
  "language_info": {
   "codemirror_mode": {
    "name": "ipython",
    "version": 3
   },
   "file_extension": ".py",
   "mimetype": "text/x-python",
   "name": "python",
   "nbconvert_exporter": "python",
   "pygments_lexer": "ipython3",
   "version": "3.8.5"
  },
  "colab": {
   "name": "13_dask_dataframe_Баранюк_Андрей_ПИ18-2.ipynb",
   "provenance": [],
   "collapsed_sections": []
  }
 },
 "nbformat": 4,
 "nbformat_minor": 0
}