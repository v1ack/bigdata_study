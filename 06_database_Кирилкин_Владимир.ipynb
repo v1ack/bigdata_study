{
 "cells": [
  {
   "cell_type": "markdown",
   "metadata": {},
   "source": [
    "# Работа с базами данных"
   ]
  },
  {
   "cell_type": "markdown",
   "metadata": {},
   "source": [
    "Материалы:\n",
    "* Макрушин С.В. Лекция 6: Работа с базами данных\n",
    "* https://sqliteonline.com/\n",
    "* https://docs.python.org/3/library/sqlite3.html\n",
    "* https://www.geeksforgeeks.org/sql-join-set-1-inner-left-right-and-full-joins/\n",
    "* https://www.datacamp.com/community/tutorials/group-by-having-clause-sql"
   ]
  },
  {
   "cell_type": "markdown",
   "metadata": {},
   "source": [
    "## Задачи для совместного разбора"
   ]
  },
  {
   "cell_type": "code",
   "execution_count": 1,
   "metadata": {
    "pycharm": {
     "name": "#%%\n"
    }
   },
   "outputs": [],
   "source": [
    "import sqlite3\n",
    "\n",
    "conn = sqlite3.connect(\"Chinook_Sqlite.sqlite\")\n",
    "cur = conn.cursor()"
   ]
  },
  {
   "cell_type": "code",
   "execution_count": 3,
   "metadata": {
    "pycharm": {
     "name": "#%%\n"
    }
   },
   "outputs": [],
   "source": [
    "cur.close()\n",
    "conn.close()"
   ]
  },
  {
   "cell_type": "markdown",
   "metadata": {},
   "source": [
    "1. Работая с базой данных `Chinook_Sqlite.sqlite`, найдите и выведите на экран имена и фамилии всех заказчиков из Канады"
   ]
  },
  {
   "cell_type": "code",
   "execution_count": 2,
   "metadata": {
    "pycharm": {
     "name": "#%%\n"
    }
   },
   "outputs": [
    {
     "data": {
      "text/plain": [
       "[('Luís', 'Gonçalves'),\n",
       " ('Leonie', 'Köhler'),\n",
       " ('François', 'Tremblay'),\n",
       " ('Bjørn', 'Hansen'),\n",
       " ('František', 'Wichterlová'),\n",
       " ('Helena', 'Holý'),\n",
       " ('Astrid', 'Gruber'),\n",
       " ('Daan', 'Peeters'),\n",
       " ('Kara', 'Nielsen'),\n",
       " ('Eduardo', 'Martins'),\n",
       " ('Alexandre', 'Rocha'),\n",
       " ('Roberto', 'Almeida'),\n",
       " ('Fernanda', 'Ramos'),\n",
       " ('Mark', 'Philips'),\n",
       " ('Jennifer', 'Peterson'),\n",
       " ('Frank', 'Harris'),\n",
       " ('Jack', 'Smith'),\n",
       " ('Michelle', 'Brooks'),\n",
       " ('Tim', 'Goyer'),\n",
       " ('Dan', 'Miller'),\n",
       " ('Kathy', 'Chase'),\n",
       " ('Heather', 'Leacock'),\n",
       " ('John', 'Gordon'),\n",
       " ('Frank', 'Ralston'),\n",
       " ('Victor', 'Stevens'),\n",
       " ('Richard', 'Cunningham'),\n",
       " ('Patrick', 'Gray'),\n",
       " ('Julia', 'Barnett'),\n",
       " ('Robert', 'Brown'),\n",
       " ('Edward', 'Francis'),\n",
       " ('Martha', 'Silk'),\n",
       " ('Aaron', 'Mitchell'),\n",
       " ('Ellie', 'Sullivan'),\n",
       " ('João', 'Fernandes'),\n",
       " ('Madalena', 'Sampaio'),\n",
       " ('Hannah', 'Schneider'),\n",
       " ('Fynn', 'Zimmermann'),\n",
       " ('Niklas', 'Schröder'),\n",
       " ('Camille', 'Bernard'),\n",
       " ('Dominique', 'Lefebvre'),\n",
       " ('Marc', 'Dubois'),\n",
       " ('Wyatt', 'Girard'),\n",
       " ('Isabelle', 'Mercier'),\n",
       " ('Terhi', 'Hämäläinen'),\n",
       " ('Ladislav', 'Kovács'),\n",
       " ('Hugh', \"O'Reilly\"),\n",
       " ('Lucas', 'Mancini'),\n",
       " ('Johannes', 'Van der Berg'),\n",
       " ('Stanisław', 'Wójcik'),\n",
       " ('Enrique', 'Muñoz'),\n",
       " ('Joakim', 'Johansson'),\n",
       " ('Emma', 'Jones'),\n",
       " ('Phil', 'Hughes'),\n",
       " ('Steve', 'Murray'),\n",
       " ('Mark', 'Taylor'),\n",
       " ('Diego', 'Gutiérrez'),\n",
       " ('Luis', 'Rojas'),\n",
       " ('Manoj', 'Pareek'),\n",
       " ('Puja', 'Srivastava')]"
      ]
     },
     "execution_count": 2,
     "metadata": {},
     "output_type": "execute_result"
    }
   ],
   "source": [
    "cur.execute('''SELECT FirstName, LastName from Customer''')\n",
    "cur.fetchall()"
   ]
  },
  {
   "cell_type": "markdown",
   "metadata": {},
   "source": [
    "2. Найти и вывести на экран названия всех альбомов группы Accept"
   ]
  },
  {
   "cell_type": "code",
   "execution_count": null,
   "metadata": {},
   "outputs": [],
   "source": []
  },
  {
   "cell_type": "markdown",
   "metadata": {},
   "source": [
    "3. Создайте базу данных с названием вашей группы. В этой базе данных создайте таблицу Student, содержащую 2 столбца: id и name. Добавьте в таблицу Student информацию о студентах, сидящих с вами по соседству."
   ]
  },
  {
   "cell_type": "markdown",
   "metadata": {},
   "source": [
    "## Лабораторная работа 6"
   ]
  },
  {
   "cell_type": "markdown",
   "metadata": {},
   "source": [
    "1. Создайте файл базы данных c названием `recipes.db`. Создайте объект-курсор. "
   ]
  },
  {
   "cell_type": "code",
   "execution_count": 2,
   "metadata": {},
   "outputs": [],
   "source": [
    "import sqlite3\n",
    "\n",
    "conn = sqlite3.connect(\"recipes.sqlite\")\n",
    "cur = conn.cursor()"
   ]
  },
  {
   "cell_type": "markdown",
   "metadata": {},
   "source": [
    "2. Напишите и выполните SQL-запрос для создания таблицы рецептов `Recipe`. Таблица должна содержать следующие поля:\n",
    "`id`, `name`, `minutes`, `submitted`, `description`, `n_ingredients`. Определитесь с типами и составом ключевых полей."
   ]
  },
  {
   "cell_type": "code",
   "execution_count": 5,
   "metadata": {},
   "outputs": [
    {
     "data": {
      "text/plain": [
       "<sqlite3.Cursor at 0x1e4a1e446c0>"
      ]
     },
     "execution_count": 5,
     "metadata": {},
     "output_type": "execute_result"
    }
   ],
   "source": [
    "conn.execute(\"\"\"create table recipe\n",
    "(\n",
    "\tid int,\n",
    "\tname text,\n",
    "\tminutes int,\n",
    "\tsubmitted date,\n",
    "\tdescription text,\n",
    "\tn_ingredients int\n",
    ");\n",
    "\"\"\")"
   ]
  },
  {
   "cell_type": "markdown",
   "metadata": {},
   "source": [
    "3. Напишите и выполните SQL-запрос для создания таблицы отзывов `Review`. Таблица должна содержать следующие поля:\n",
    "`id`, `user_id`, `recipe_id`, `date`, `rating`, `review`. Определитесь с типами полей, набором ключевых полей. При помощи внешнего ключа соедините две таблицы."
   ]
  },
  {
   "cell_type": "markdown",
   "metadata": {},
   "source": [
    "4. Загрузите данные из файлов `reviews_sample.csv` (__ЛР2__) и `recipes_sample_with_tags_ingredients.csv` (__ЛР5__) в созданные таблицы"
   ]
  },
  {
   "cell_type": "code",
   "execution_count": 18,
   "metadata": {},
   "outputs": [
    {
     "data": {
      "text/plain": [
       "<sqlite3.Cursor at 0x1e4bcbbbd50>"
      ]
     },
     "execution_count": 18,
     "metadata": {},
     "output_type": "execute_result"
    }
   ],
   "source": [
    "conn.execute(\"\"\"drop table if exists recipe\"\"\")\n",
    "conn.execute(\"\"\"drop table if exists rewiew;\"\"\")"
   ]
  },
  {
   "cell_type": "code",
   "execution_count": 3,
   "metadata": {},
   "outputs": [],
   "source": [
    "import pandas as pd\n",
    "reviews = pd.read_csv(\"reviews_sample.csv\", index_col=0)"
   ]
  },
  {
   "cell_type": "code",
   "execution_count": 20,
   "metadata": {},
   "outputs": [
    {
     "data": {
      "text/html": [
       "<div>\n",
       "<style scoped>\n",
       "    .dataframe tbody tr th:only-of-type {\n",
       "        vertical-align: middle;\n",
       "    }\n",
       "\n",
       "    .dataframe tbody tr th {\n",
       "        vertical-align: top;\n",
       "    }\n",
       "\n",
       "    .dataframe thead th {\n",
       "        text-align: right;\n",
       "    }\n",
       "</style>\n",
       "<table border=\"1\" class=\"dataframe\">\n",
       "  <thead>\n",
       "    <tr style=\"text-align: right;\">\n",
       "      <th></th>\n",
       "      <th>user_id</th>\n",
       "      <th>recipe_id</th>\n",
       "      <th>date</th>\n",
       "      <th>rating</th>\n",
       "      <th>review</th>\n",
       "    </tr>\n",
       "  </thead>\n",
       "  <tbody>\n",
       "    <tr>\n",
       "      <th>370476</th>\n",
       "      <td>21752</td>\n",
       "      <td>57993</td>\n",
       "      <td>2003-05-01</td>\n",
       "      <td>5</td>\n",
       "      <td>Last week whole sides of frozen salmon fillet ...</td>\n",
       "    </tr>\n",
       "    <tr>\n",
       "      <th>624300</th>\n",
       "      <td>431813</td>\n",
       "      <td>142201</td>\n",
       "      <td>2007-09-16</td>\n",
       "      <td>5</td>\n",
       "      <td>So simple and so tasty!  I used a yellow capsi...</td>\n",
       "    </tr>\n",
       "    <tr>\n",
       "      <th>187037</th>\n",
       "      <td>400708</td>\n",
       "      <td>252013</td>\n",
       "      <td>2008-01-10</td>\n",
       "      <td>4</td>\n",
       "      <td>Very nice breakfast HH, easy to make and yummy...</td>\n",
       "    </tr>\n",
       "    <tr>\n",
       "      <th>706134</th>\n",
       "      <td>2001852463</td>\n",
       "      <td>404716</td>\n",
       "      <td>2017-12-11</td>\n",
       "      <td>5</td>\n",
       "      <td>These are a favorite for the holidays and so e...</td>\n",
       "    </tr>\n",
       "    <tr>\n",
       "      <th>312179</th>\n",
       "      <td>95810</td>\n",
       "      <td>129396</td>\n",
       "      <td>2008-03-14</td>\n",
       "      <td>5</td>\n",
       "      <td>Excellent soup!  The tomato flavor is just gre...</td>\n",
       "    </tr>\n",
       "    <tr>\n",
       "      <th>...</th>\n",
       "      <td>...</td>\n",
       "      <td>...</td>\n",
       "      <td>...</td>\n",
       "      <td>...</td>\n",
       "      <td>...</td>\n",
       "    </tr>\n",
       "    <tr>\n",
       "      <th>1013457</th>\n",
       "      <td>1270706</td>\n",
       "      <td>335534</td>\n",
       "      <td>2009-05-17</td>\n",
       "      <td>4</td>\n",
       "      <td>This recipe was great! I made it last night. I...</td>\n",
       "    </tr>\n",
       "    <tr>\n",
       "      <th>158736</th>\n",
       "      <td>2282344</td>\n",
       "      <td>8701</td>\n",
       "      <td>2012-06-03</td>\n",
       "      <td>0</td>\n",
       "      <td>This recipe is outstanding. I followed the rec...</td>\n",
       "    </tr>\n",
       "    <tr>\n",
       "      <th>1059834</th>\n",
       "      <td>689540</td>\n",
       "      <td>222001</td>\n",
       "      <td>2008-04-08</td>\n",
       "      <td>5</td>\n",
       "      <td>Well, we were not a crowd but it was a fabulou...</td>\n",
       "    </tr>\n",
       "    <tr>\n",
       "      <th>453285</th>\n",
       "      <td>2000242659</td>\n",
       "      <td>354979</td>\n",
       "      <td>2015-06-02</td>\n",
       "      <td>5</td>\n",
       "      <td>I have been a steak eater and dedicated BBQ gr...</td>\n",
       "    </tr>\n",
       "    <tr>\n",
       "      <th>691207</th>\n",
       "      <td>463435</td>\n",
       "      <td>415599</td>\n",
       "      <td>2010-09-30</td>\n",
       "      <td>5</td>\n",
       "      <td>Wonderful and simple to prepare seasoning blen...</td>\n",
       "    </tr>\n",
       "  </tbody>\n",
       "</table>\n",
       "<p>126696 rows × 5 columns</p>\n",
       "</div>"
      ],
      "text/plain": [
       "            user_id  recipe_id        date  rating  \\\n",
       "370476        21752      57993  2003-05-01       5   \n",
       "624300       431813     142201  2007-09-16       5   \n",
       "187037       400708     252013  2008-01-10       4   \n",
       "706134   2001852463     404716  2017-12-11       5   \n",
       "312179        95810     129396  2008-03-14       5   \n",
       "...             ...        ...         ...     ...   \n",
       "1013457     1270706     335534  2009-05-17       4   \n",
       "158736      2282344       8701  2012-06-03       0   \n",
       "1059834      689540     222001  2008-04-08       5   \n",
       "453285   2000242659     354979  2015-06-02       5   \n",
       "691207       463435     415599  2010-09-30       5   \n",
       "\n",
       "                                                    review  \n",
       "370476   Last week whole sides of frozen salmon fillet ...  \n",
       "624300   So simple and so tasty!  I used a yellow capsi...  \n",
       "187037   Very nice breakfast HH, easy to make and yummy...  \n",
       "706134   These are a favorite for the holidays and so e...  \n",
       "312179   Excellent soup!  The tomato flavor is just gre...  \n",
       "...                                                    ...  \n",
       "1013457  This recipe was great! I made it last night. I...  \n",
       "158736   This recipe is outstanding. I followed the rec...  \n",
       "1059834  Well, we were not a crowd but it was a fabulou...  \n",
       "453285   I have been a steak eater and dedicated BBQ gr...  \n",
       "691207   Wonderful and simple to prepare seasoning blen...  \n",
       "\n",
       "[126696 rows x 5 columns]"
      ]
     },
     "execution_count": 20,
     "metadata": {},
     "output_type": "execute_result"
    }
   ],
   "source": [
    "reviews"
   ]
  },
  {
   "cell_type": "code",
   "execution_count": 4,
   "metadata": {},
   "outputs": [
    {
     "ename": "ValueError",
     "evalue": "Table 'rewiew' already exists.",
     "output_type": "error",
     "traceback": [
      "\u001B[1;31m---------------------------------------------------------------------------\u001B[0m",
      "\u001B[1;31mValueError\u001B[0m                                Traceback (most recent call last)",
      "\u001B[1;32m<ipython-input-4-75167e82ac73>\u001B[0m in \u001B[0;36m<module>\u001B[1;34m\u001B[0m\n\u001B[1;32m----> 1\u001B[1;33m \u001B[0mreviews\u001B[0m\u001B[1;33m.\u001B[0m\u001B[0mto_sql\u001B[0m\u001B[1;33m(\u001B[0m\u001B[1;34m\"rewiew\"\u001B[0m\u001B[1;33m,\u001B[0m \u001B[0mconn\u001B[0m\u001B[1;33m)\u001B[0m\u001B[1;33m\u001B[0m\u001B[1;33m\u001B[0m\u001B[0m\n\u001B[0m\u001B[0;32m      2\u001B[0m \u001B[1;33m\u001B[0m\u001B[0m\n",
      "\u001B[1;32mc:\\users\\admin\\pycharmprojects\\ml_course\\venv\\lib\\site-packages\\pandas\\core\\generic.py\u001B[0m in \u001B[0;36mto_sql\u001B[1;34m(self, name, con, schema, if_exists, index, index_label, chunksize, dtype, method)\u001B[0m\n\u001B[0;32m   2651\u001B[0m         \u001B[1;32mfrom\u001B[0m \u001B[0mpandas\u001B[0m\u001B[1;33m.\u001B[0m\u001B[0mio\u001B[0m \u001B[1;32mimport\u001B[0m \u001B[0msql\u001B[0m\u001B[1;33m\u001B[0m\u001B[1;33m\u001B[0m\u001B[0m\n\u001B[0;32m   2652\u001B[0m \u001B[1;33m\u001B[0m\u001B[0m\n\u001B[1;32m-> 2653\u001B[1;33m         sql.to_sql(\n\u001B[0m\u001B[0;32m   2654\u001B[0m             \u001B[0mself\u001B[0m\u001B[1;33m,\u001B[0m\u001B[1;33m\u001B[0m\u001B[1;33m\u001B[0m\u001B[0m\n\u001B[0;32m   2655\u001B[0m             \u001B[0mname\u001B[0m\u001B[1;33m,\u001B[0m\u001B[1;33m\u001B[0m\u001B[1;33m\u001B[0m\u001B[0m\n",
      "\u001B[1;32mc:\\users\\admin\\pycharmprojects\\ml_course\\venv\\lib\\site-packages\\pandas\\io\\sql.py\u001B[0m in \u001B[0;36mto_sql\u001B[1;34m(frame, name, con, schema, if_exists, index, index_label, chunksize, dtype, method)\u001B[0m\n\u001B[0;32m    510\u001B[0m         )\n\u001B[0;32m    511\u001B[0m \u001B[1;33m\u001B[0m\u001B[0m\n\u001B[1;32m--> 512\u001B[1;33m     pandas_sql.to_sql(\n\u001B[0m\u001B[0;32m    513\u001B[0m         \u001B[0mframe\u001B[0m\u001B[1;33m,\u001B[0m\u001B[1;33m\u001B[0m\u001B[1;33m\u001B[0m\u001B[0m\n\u001B[0;32m    514\u001B[0m         \u001B[0mname\u001B[0m\u001B[1;33m,\u001B[0m\u001B[1;33m\u001B[0m\u001B[1;33m\u001B[0m\u001B[0m\n",
      "\u001B[1;32mc:\\users\\admin\\pycharmprojects\\ml_course\\venv\\lib\\site-packages\\pandas\\io\\sql.py\u001B[0m in \u001B[0;36mto_sql\u001B[1;34m(self, frame, name, if_exists, index, index_label, schema, chunksize, dtype, method)\u001B[0m\n\u001B[0;32m   1731\u001B[0m             \u001B[0mdtype\u001B[0m\u001B[1;33m=\u001B[0m\u001B[0mdtype\u001B[0m\u001B[1;33m,\u001B[0m\u001B[1;33m\u001B[0m\u001B[1;33m\u001B[0m\u001B[0m\n\u001B[0;32m   1732\u001B[0m         )\n\u001B[1;32m-> 1733\u001B[1;33m         \u001B[0mtable\u001B[0m\u001B[1;33m.\u001B[0m\u001B[0mcreate\u001B[0m\u001B[1;33m(\u001B[0m\u001B[1;33m)\u001B[0m\u001B[1;33m\u001B[0m\u001B[1;33m\u001B[0m\u001B[0m\n\u001B[0m\u001B[0;32m   1734\u001B[0m         \u001B[0mtable\u001B[0m\u001B[1;33m.\u001B[0m\u001B[0minsert\u001B[0m\u001B[1;33m(\u001B[0m\u001B[0mchunksize\u001B[0m\u001B[1;33m,\u001B[0m \u001B[0mmethod\u001B[0m\u001B[1;33m)\u001B[0m\u001B[1;33m\u001B[0m\u001B[1;33m\u001B[0m\u001B[0m\n\u001B[0;32m   1735\u001B[0m \u001B[1;33m\u001B[0m\u001B[0m\n",
      "\u001B[1;32mc:\\users\\admin\\pycharmprojects\\ml_course\\venv\\lib\\site-packages\\pandas\\io\\sql.py\u001B[0m in \u001B[0;36mcreate\u001B[1;34m(self)\u001B[0m\n\u001B[0;32m    644\u001B[0m         \u001B[1;32mif\u001B[0m \u001B[0mself\u001B[0m\u001B[1;33m.\u001B[0m\u001B[0mexists\u001B[0m\u001B[1;33m(\u001B[0m\u001B[1;33m)\u001B[0m\u001B[1;33m:\u001B[0m\u001B[1;33m\u001B[0m\u001B[1;33m\u001B[0m\u001B[0m\n\u001B[0;32m    645\u001B[0m             \u001B[1;32mif\u001B[0m \u001B[0mself\u001B[0m\u001B[1;33m.\u001B[0m\u001B[0mif_exists\u001B[0m \u001B[1;33m==\u001B[0m \u001B[1;34m\"fail\"\u001B[0m\u001B[1;33m:\u001B[0m\u001B[1;33m\u001B[0m\u001B[1;33m\u001B[0m\u001B[0m\n\u001B[1;32m--> 646\u001B[1;33m                 \u001B[1;32mraise\u001B[0m \u001B[0mValueError\u001B[0m\u001B[1;33m(\u001B[0m\u001B[1;34mf\"Table '{self.name}' already exists.\"\u001B[0m\u001B[1;33m)\u001B[0m\u001B[1;33m\u001B[0m\u001B[1;33m\u001B[0m\u001B[0m\n\u001B[0m\u001B[0;32m    647\u001B[0m             \u001B[1;32melif\u001B[0m \u001B[0mself\u001B[0m\u001B[1;33m.\u001B[0m\u001B[0mif_exists\u001B[0m \u001B[1;33m==\u001B[0m \u001B[1;34m\"replace\"\u001B[0m\u001B[1;33m:\u001B[0m\u001B[1;33m\u001B[0m\u001B[1;33m\u001B[0m\u001B[0m\n\u001B[0;32m    648\u001B[0m                 \u001B[0mself\u001B[0m\u001B[1;33m.\u001B[0m\u001B[0mpd_sql\u001B[0m\u001B[1;33m.\u001B[0m\u001B[0mdrop_table\u001B[0m\u001B[1;33m(\u001B[0m\u001B[0mself\u001B[0m\u001B[1;33m.\u001B[0m\u001B[0mname\u001B[0m\u001B[1;33m,\u001B[0m \u001B[0mself\u001B[0m\u001B[1;33m.\u001B[0m\u001B[0mschema\u001B[0m\u001B[1;33m)\u001B[0m\u001B[1;33m\u001B[0m\u001B[1;33m\u001B[0m\u001B[0m\n",
      "\u001B[1;31mValueError\u001B[0m: Table 'rewiew' already exists."
     ]
    }
   ],
   "source": [
    "reviews.to_sql(\"rewiew\", conn)"
   ]
  },
  {
   "cell_type": "code",
   "execution_count": 5,
   "metadata": {},
   "outputs": [],
   "source": [
    "recipes = pd.read_csv(\"recipes_sample_with_tags_ingredients.csv\", index_col=0)"
   ]
  },
  {
   "cell_type": "code",
   "execution_count": 23,
   "metadata": {},
   "outputs": [
    {
     "data": {
      "text/html": [
       "<div>\n",
       "<style scoped>\n",
       "    .dataframe tbody tr th:only-of-type {\n",
       "        vertical-align: middle;\n",
       "    }\n",
       "\n",
       "    .dataframe tbody tr th {\n",
       "        vertical-align: top;\n",
       "    }\n",
       "\n",
       "    .dataframe thead th {\n",
       "        text-align: right;\n",
       "    }\n",
       "</style>\n",
       "<table border=\"1\" class=\"dataframe\">\n",
       "  <thead>\n",
       "    <tr style=\"text-align: right;\">\n",
       "      <th></th>\n",
       "      <th>name</th>\n",
       "      <th>id</th>\n",
       "      <th>minutes</th>\n",
       "      <th>contributor_id</th>\n",
       "      <th>submitted</th>\n",
       "      <th>n_steps</th>\n",
       "      <th>description</th>\n",
       "      <th>tags</th>\n",
       "      <th>n_tags</th>\n",
       "      <th>ingredients</th>\n",
       "      <th>n_ingredients</th>\n",
       "    </tr>\n",
       "  </thead>\n",
       "  <tbody>\n",
       "    <tr>\n",
       "      <th>0</th>\n",
       "      <td>george s at the cove  black bean soup</td>\n",
       "      <td>44123</td>\n",
       "      <td>90</td>\n",
       "      <td>35193</td>\n",
       "      <td>2002-10-25</td>\n",
       "      <td>11.0</td>\n",
       "      <td>an original recipe created by chef scott meska...</td>\n",
       "      <td>weeknight;time-to-make;course;main-ingredient;...</td>\n",
       "      <td>25</td>\n",
       "      <td>unsalted butter*carrot*onion*celery*broccoli s...</td>\n",
       "      <td>18</td>\n",
       "    </tr>\n",
       "    <tr>\n",
       "      <th>1</th>\n",
       "      <td>healthy for them  yogurt popsicles</td>\n",
       "      <td>67664</td>\n",
       "      <td>10</td>\n",
       "      <td>91970</td>\n",
       "      <td>2003-07-26</td>\n",
       "      <td>3.0</td>\n",
       "      <td>my children and their friends ask for my homem...</td>\n",
       "      <td>15-minutes-or-less;time-to-make;course;prepara...</td>\n",
       "      <td>31</td>\n",
       "      <td>milk*frozen juice concentrate*plain yogurt</td>\n",
       "      <td>3</td>\n",
       "    </tr>\n",
       "    <tr>\n",
       "      <th>2</th>\n",
       "      <td>i can t believe it s spinach</td>\n",
       "      <td>38798</td>\n",
       "      <td>30</td>\n",
       "      <td>1533</td>\n",
       "      <td>2002-08-29</td>\n",
       "      <td>5.0</td>\n",
       "      <td>these were so go, it surprised even me.</td>\n",
       "      <td>30-minutes-or-less;time-to-make;course;main-in...</td>\n",
       "      <td>17</td>\n",
       "      <td>onion*frozen chopped spinach*eggs*garlic powde...</td>\n",
       "      <td>8</td>\n",
       "    </tr>\n",
       "    <tr>\n",
       "      <th>3</th>\n",
       "      <td>italian  gut busters</td>\n",
       "      <td>35173</td>\n",
       "      <td>45</td>\n",
       "      <td>22724</td>\n",
       "      <td>2002-07-27</td>\n",
       "      <td>7.0</td>\n",
       "      <td>my sister-in-law made these for us at a family...</td>\n",
       "      <td>60-minutes-or-less;time-to-make;course;prepara...</td>\n",
       "      <td>11</td>\n",
       "      <td>sandwich bun*good seasonings italian salad dre...</td>\n",
       "      <td>9</td>\n",
       "    </tr>\n",
       "    <tr>\n",
       "      <th>4</th>\n",
       "      <td>love is in the air  beef fondue   sauces</td>\n",
       "      <td>84797</td>\n",
       "      <td>25</td>\n",
       "      <td>4470</td>\n",
       "      <td>2004-02-23</td>\n",
       "      <td>4.0</td>\n",
       "      <td>i think a fondue is a very romantic casual din...</td>\n",
       "      <td>30-minutes-or-less;time-to-make;course;main-in...</td>\n",
       "      <td>19</td>\n",
       "      <td>beef steaks*vegetable oil*spicy mustard*fresh ...</td>\n",
       "      <td>12</td>\n",
       "    </tr>\n",
       "    <tr>\n",
       "      <th>...</th>\n",
       "      <td>...</td>\n",
       "      <td>...</td>\n",
       "      <td>...</td>\n",
       "      <td>...</td>\n",
       "      <td>...</td>\n",
       "      <td>...</td>\n",
       "      <td>...</td>\n",
       "      <td>...</td>\n",
       "      <td>...</td>\n",
       "      <td>...</td>\n",
       "      <td>...</td>\n",
       "    </tr>\n",
       "    <tr>\n",
       "      <th>29995</th>\n",
       "      <td>zurie s holey rustic olive and cheddar bread</td>\n",
       "      <td>267661</td>\n",
       "      <td>80</td>\n",
       "      <td>200862</td>\n",
       "      <td>2007-11-25</td>\n",
       "      <td>16.0</td>\n",
       "      <td>this is based on a french recipe but i changed...</td>\n",
       "      <td>time-to-make;course;main-ingredient;cuisine;pr...</td>\n",
       "      <td>18</td>\n",
       "      <td>dry white wine*eggs*cheddar cheese*baking powd...</td>\n",
       "      <td>10</td>\n",
       "    </tr>\n",
       "    <tr>\n",
       "      <th>29996</th>\n",
       "      <td>zwetschgenkuchen  bavarian plum cake</td>\n",
       "      <td>386977</td>\n",
       "      <td>240</td>\n",
       "      <td>177443</td>\n",
       "      <td>2009-08-24</td>\n",
       "      <td>22.0</td>\n",
       "      <td>this is a traditional fresh plum cake, thought...</td>\n",
       "      <td>time-to-make;course;main-ingredient;cuisine;pr...</td>\n",
       "      <td>19</td>\n",
       "      <td>unsalted butter*milk*flour*salt*vanilla*all-pu...</td>\n",
       "      <td>11</td>\n",
       "    </tr>\n",
       "    <tr>\n",
       "      <th>29997</th>\n",
       "      <td>zwiebelkuchen   southwest german onion cake</td>\n",
       "      <td>103312</td>\n",
       "      <td>75</td>\n",
       "      <td>161745</td>\n",
       "      <td>2004-11-03</td>\n",
       "      <td>10.0</td>\n",
       "      <td>this is a traditional late summer early fall s...</td>\n",
       "      <td>time-to-make;course;main-ingredient;cuisine;pr...</td>\n",
       "      <td>20</td>\n",
       "      <td>onion*milk*eggs*butter*flour*salt*pepper*sugar...</td>\n",
       "      <td>13</td>\n",
       "    </tr>\n",
       "    <tr>\n",
       "      <th>29998</th>\n",
       "      <td>zydeco soup</td>\n",
       "      <td>486161</td>\n",
       "      <td>60</td>\n",
       "      <td>227978</td>\n",
       "      <td>2012-08-29</td>\n",
       "      <td>7.0</td>\n",
       "      <td>this is a delicious soup that i originally fou...</td>\n",
       "      <td>ham;60-minutes-or-less;time-to-make;course;mai...</td>\n",
       "      <td>20</td>\n",
       "      <td>onion*celery*dried thyme*dried oregano*fresh p...</td>\n",
       "      <td>22</td>\n",
       "    </tr>\n",
       "    <tr>\n",
       "      <th>29999</th>\n",
       "      <td>cookies by design   cookies on a stick</td>\n",
       "      <td>298512</td>\n",
       "      <td>29</td>\n",
       "      <td>506822</td>\n",
       "      <td>2008-04-15</td>\n",
       "      <td>9.0</td>\n",
       "      <td>i've heard of the 'cookies by design' company,...</td>\n",
       "      <td>30-minutes-or-less;time-to-make;course;prepara...</td>\n",
       "      <td>12</td>\n",
       "      <td>butter*sour cream*egg*bisquick*light brown sug...</td>\n",
       "      <td>10</td>\n",
       "    </tr>\n",
       "  </tbody>\n",
       "</table>\n",
       "<p>30000 rows × 11 columns</p>\n",
       "</div>"
      ],
      "text/plain": [
       "                                               name      id  minutes  \\\n",
       "0             george s at the cove  black bean soup   44123       90   \n",
       "1                healthy for them  yogurt popsicles   67664       10   \n",
       "2                      i can t believe it s spinach   38798       30   \n",
       "3                              italian  gut busters   35173       45   \n",
       "4          love is in the air  beef fondue   sauces   84797       25   \n",
       "...                                             ...     ...      ...   \n",
       "29995  zurie s holey rustic olive and cheddar bread  267661       80   \n",
       "29996          zwetschgenkuchen  bavarian plum cake  386977      240   \n",
       "29997   zwiebelkuchen   southwest german onion cake  103312       75   \n",
       "29998                                   zydeco soup  486161       60   \n",
       "29999        cookies by design   cookies on a stick  298512       29   \n",
       "\n",
       "       contributor_id   submitted  n_steps  \\\n",
       "0               35193  2002-10-25     11.0   \n",
       "1               91970  2003-07-26      3.0   \n",
       "2                1533  2002-08-29      5.0   \n",
       "3               22724  2002-07-27      7.0   \n",
       "4                4470  2004-02-23      4.0   \n",
       "...               ...         ...      ...   \n",
       "29995          200862  2007-11-25     16.0   \n",
       "29996          177443  2009-08-24     22.0   \n",
       "29997          161745  2004-11-03     10.0   \n",
       "29998          227978  2012-08-29      7.0   \n",
       "29999          506822  2008-04-15      9.0   \n",
       "\n",
       "                                             description  \\\n",
       "0      an original recipe created by chef scott meska...   \n",
       "1      my children and their friends ask for my homem...   \n",
       "2                these were so go, it surprised even me.   \n",
       "3      my sister-in-law made these for us at a family...   \n",
       "4      i think a fondue is a very romantic casual din...   \n",
       "...                                                  ...   \n",
       "29995  this is based on a french recipe but i changed...   \n",
       "29996  this is a traditional fresh plum cake, thought...   \n",
       "29997  this is a traditional late summer early fall s...   \n",
       "29998  this is a delicious soup that i originally fou...   \n",
       "29999  i've heard of the 'cookies by design' company,...   \n",
       "\n",
       "                                                    tags  n_tags  \\\n",
       "0      weeknight;time-to-make;course;main-ingredient;...      25   \n",
       "1      15-minutes-or-less;time-to-make;course;prepara...      31   \n",
       "2      30-minutes-or-less;time-to-make;course;main-in...      17   \n",
       "3      60-minutes-or-less;time-to-make;course;prepara...      11   \n",
       "4      30-minutes-or-less;time-to-make;course;main-in...      19   \n",
       "...                                                  ...     ...   \n",
       "29995  time-to-make;course;main-ingredient;cuisine;pr...      18   \n",
       "29996  time-to-make;course;main-ingredient;cuisine;pr...      19   \n",
       "29997  time-to-make;course;main-ingredient;cuisine;pr...      20   \n",
       "29998  ham;60-minutes-or-less;time-to-make;course;mai...      20   \n",
       "29999  30-minutes-or-less;time-to-make;course;prepara...      12   \n",
       "\n",
       "                                             ingredients  n_ingredients  \n",
       "0      unsalted butter*carrot*onion*celery*broccoli s...             18  \n",
       "1             milk*frozen juice concentrate*plain yogurt              3  \n",
       "2      onion*frozen chopped spinach*eggs*garlic powde...              8  \n",
       "3      sandwich bun*good seasonings italian salad dre...              9  \n",
       "4      beef steaks*vegetable oil*spicy mustard*fresh ...             12  \n",
       "...                                                  ...            ...  \n",
       "29995  dry white wine*eggs*cheddar cheese*baking powd...             10  \n",
       "29996  unsalted butter*milk*flour*salt*vanilla*all-pu...             11  \n",
       "29997  onion*milk*eggs*butter*flour*salt*pepper*sugar...             13  \n",
       "29998  onion*celery*dried thyme*dried oregano*fresh p...             22  \n",
       "29999  butter*sour cream*egg*bisquick*light brown sug...             10  \n",
       "\n",
       "[30000 rows x 11 columns]"
      ]
     },
     "execution_count": 23,
     "metadata": {},
     "output_type": "execute_result"
    }
   ],
   "source": [
    "recipes"
   ]
  },
  {
   "cell_type": "code",
   "execution_count": 6,
   "metadata": {},
   "outputs": [
    {
     "ename": "ValueError",
     "evalue": "Table 'recipe' already exists.",
     "output_type": "error",
     "traceback": [
      "\u001B[1;31m---------------------------------------------------------------------------\u001B[0m",
      "\u001B[1;31mValueError\u001B[0m                                Traceback (most recent call last)",
      "\u001B[1;32m<ipython-input-6-96051d46b3d5>\u001B[0m in \u001B[0;36m<module>\u001B[1;34m\u001B[0m\n\u001B[1;32m----> 1\u001B[1;33m \u001B[0mrecipes\u001B[0m\u001B[1;33m.\u001B[0m\u001B[0mto_sql\u001B[0m\u001B[1;33m(\u001B[0m\u001B[1;34m\"recipe\"\u001B[0m\u001B[1;33m,\u001B[0m \u001B[0mconn\u001B[0m\u001B[1;33m)\u001B[0m\u001B[1;33m\u001B[0m\u001B[1;33m\u001B[0m\u001B[0m\n\u001B[0m\u001B[0;32m      2\u001B[0m \u001B[1;33m\u001B[0m\u001B[0m\n",
      "\u001B[1;32mc:\\users\\admin\\pycharmprojects\\ml_course\\venv\\lib\\site-packages\\pandas\\core\\generic.py\u001B[0m in \u001B[0;36mto_sql\u001B[1;34m(self, name, con, schema, if_exists, index, index_label, chunksize, dtype, method)\u001B[0m\n\u001B[0;32m   2651\u001B[0m         \u001B[1;32mfrom\u001B[0m \u001B[0mpandas\u001B[0m\u001B[1;33m.\u001B[0m\u001B[0mio\u001B[0m \u001B[1;32mimport\u001B[0m \u001B[0msql\u001B[0m\u001B[1;33m\u001B[0m\u001B[1;33m\u001B[0m\u001B[0m\n\u001B[0;32m   2652\u001B[0m \u001B[1;33m\u001B[0m\u001B[0m\n\u001B[1;32m-> 2653\u001B[1;33m         sql.to_sql(\n\u001B[0m\u001B[0;32m   2654\u001B[0m             \u001B[0mself\u001B[0m\u001B[1;33m,\u001B[0m\u001B[1;33m\u001B[0m\u001B[1;33m\u001B[0m\u001B[0m\n\u001B[0;32m   2655\u001B[0m             \u001B[0mname\u001B[0m\u001B[1;33m,\u001B[0m\u001B[1;33m\u001B[0m\u001B[1;33m\u001B[0m\u001B[0m\n",
      "\u001B[1;32mc:\\users\\admin\\pycharmprojects\\ml_course\\venv\\lib\\site-packages\\pandas\\io\\sql.py\u001B[0m in \u001B[0;36mto_sql\u001B[1;34m(frame, name, con, schema, if_exists, index, index_label, chunksize, dtype, method)\u001B[0m\n\u001B[0;32m    510\u001B[0m         )\n\u001B[0;32m    511\u001B[0m \u001B[1;33m\u001B[0m\u001B[0m\n\u001B[1;32m--> 512\u001B[1;33m     pandas_sql.to_sql(\n\u001B[0m\u001B[0;32m    513\u001B[0m         \u001B[0mframe\u001B[0m\u001B[1;33m,\u001B[0m\u001B[1;33m\u001B[0m\u001B[1;33m\u001B[0m\u001B[0m\n\u001B[0;32m    514\u001B[0m         \u001B[0mname\u001B[0m\u001B[1;33m,\u001B[0m\u001B[1;33m\u001B[0m\u001B[1;33m\u001B[0m\u001B[0m\n",
      "\u001B[1;32mc:\\users\\admin\\pycharmprojects\\ml_course\\venv\\lib\\site-packages\\pandas\\io\\sql.py\u001B[0m in \u001B[0;36mto_sql\u001B[1;34m(self, frame, name, if_exists, index, index_label, schema, chunksize, dtype, method)\u001B[0m\n\u001B[0;32m   1731\u001B[0m             \u001B[0mdtype\u001B[0m\u001B[1;33m=\u001B[0m\u001B[0mdtype\u001B[0m\u001B[1;33m,\u001B[0m\u001B[1;33m\u001B[0m\u001B[1;33m\u001B[0m\u001B[0m\n\u001B[0;32m   1732\u001B[0m         )\n\u001B[1;32m-> 1733\u001B[1;33m         \u001B[0mtable\u001B[0m\u001B[1;33m.\u001B[0m\u001B[0mcreate\u001B[0m\u001B[1;33m(\u001B[0m\u001B[1;33m)\u001B[0m\u001B[1;33m\u001B[0m\u001B[1;33m\u001B[0m\u001B[0m\n\u001B[0m\u001B[0;32m   1734\u001B[0m         \u001B[0mtable\u001B[0m\u001B[1;33m.\u001B[0m\u001B[0minsert\u001B[0m\u001B[1;33m(\u001B[0m\u001B[0mchunksize\u001B[0m\u001B[1;33m,\u001B[0m \u001B[0mmethod\u001B[0m\u001B[1;33m)\u001B[0m\u001B[1;33m\u001B[0m\u001B[1;33m\u001B[0m\u001B[0m\n\u001B[0;32m   1735\u001B[0m \u001B[1;33m\u001B[0m\u001B[0m\n",
      "\u001B[1;32mc:\\users\\admin\\pycharmprojects\\ml_course\\venv\\lib\\site-packages\\pandas\\io\\sql.py\u001B[0m in \u001B[0;36mcreate\u001B[1;34m(self)\u001B[0m\n\u001B[0;32m    644\u001B[0m         \u001B[1;32mif\u001B[0m \u001B[0mself\u001B[0m\u001B[1;33m.\u001B[0m\u001B[0mexists\u001B[0m\u001B[1;33m(\u001B[0m\u001B[1;33m)\u001B[0m\u001B[1;33m:\u001B[0m\u001B[1;33m\u001B[0m\u001B[1;33m\u001B[0m\u001B[0m\n\u001B[0;32m    645\u001B[0m             \u001B[1;32mif\u001B[0m \u001B[0mself\u001B[0m\u001B[1;33m.\u001B[0m\u001B[0mif_exists\u001B[0m \u001B[1;33m==\u001B[0m \u001B[1;34m\"fail\"\u001B[0m\u001B[1;33m:\u001B[0m\u001B[1;33m\u001B[0m\u001B[1;33m\u001B[0m\u001B[0m\n\u001B[1;32m--> 646\u001B[1;33m                 \u001B[1;32mraise\u001B[0m \u001B[0mValueError\u001B[0m\u001B[1;33m(\u001B[0m\u001B[1;34mf\"Table '{self.name}' already exists.\"\u001B[0m\u001B[1;33m)\u001B[0m\u001B[1;33m\u001B[0m\u001B[1;33m\u001B[0m\u001B[0m\n\u001B[0m\u001B[0;32m    647\u001B[0m             \u001B[1;32melif\u001B[0m \u001B[0mself\u001B[0m\u001B[1;33m.\u001B[0m\u001B[0mif_exists\u001B[0m \u001B[1;33m==\u001B[0m \u001B[1;34m\"replace\"\u001B[0m\u001B[1;33m:\u001B[0m\u001B[1;33m\u001B[0m\u001B[1;33m\u001B[0m\u001B[0m\n\u001B[0;32m    648\u001B[0m                 \u001B[0mself\u001B[0m\u001B[1;33m.\u001B[0m\u001B[0mpd_sql\u001B[0m\u001B[1;33m.\u001B[0m\u001B[0mdrop_table\u001B[0m\u001B[1;33m(\u001B[0m\u001B[0mself\u001B[0m\u001B[1;33m.\u001B[0m\u001B[0mname\u001B[0m\u001B[1;33m,\u001B[0m \u001B[0mself\u001B[0m\u001B[1;33m.\u001B[0m\u001B[0mschema\u001B[0m\u001B[1;33m)\u001B[0m\u001B[1;33m\u001B[0m\u001B[1;33m\u001B[0m\u001B[0m\n",
      "\u001B[1;31mValueError\u001B[0m: Table 'recipe' already exists."
     ]
    }
   ],
   "source": [
    "recipes.to_sql(\"recipe\", conn)"
   ]
  },
  {
   "cell_type": "markdown",
   "metadata": {},
   "source": [
    "5. Найдите все рецепты, для выполнения которых нужно ровно 10 ингредиентов. Выведите на экран первые 5 из найденных рецептов."
   ]
  },
  {
   "cell_type": "code",
   "execution_count": 29,
   "metadata": {},
   "outputs": [
    {
     "data": {
      "text/plain": [
       "[(13,\n",
       "  'blepandekager   danish   apple pancakes',\n",
       "  503475,\n",
       "  50,\n",
       "  128473,\n",
       "  '2013-07-08',\n",
       "  10.0,\n",
       "  \"this recipe has been posted here for play in zwt9 - scandinavia.  this recipe was found at website: mindspring.com - christian's danish recipes.\",\n",
       "  'danish;60-minutes-or-less;time-to-make;course;cuisine;preparation;pancakes-and-waffles;breakfast;scandinavian;european',\n",
       "  10,\n",
       "  'milk*eggs*butter*flour*salt*cream*sugar*apples*cinnamon*lemon, juice of',\n",
       "  10),\n",
       " (21,\n",
       "  'kelly s creamy cheddar pea salad',\n",
       "  125195,\n",
       "  20,\n",
       "  113941,\n",
       "  '2005-06-09',\n",
       "  5.0,\n",
       "  \"i'm not a big fan of peas, but like them in things. this salad is one of my favorites. happy to share!\",\n",
       "  '30-minutes-or-less;time-to-make;course;cuisine;preparation;north-american;salads;side-dishes;american;easy;midwestern;3-steps-or-less',\n",
       "  12,\n",
       "  'onion*celery*cheddar cheese*mayonnaise*sugar*frozen peas*hard-boiled eggs*sweet pickle relish*seasoning salt*mustard',\n",
       "  10),\n",
       " (24,\n",
       "  'middle eastern   twice baked potatoes',\n",
       "  120297,\n",
       "  110,\n",
       "  197023,\n",
       "  '2005-05-02',\n",
       "  14.0,\n",
       "  'a delicious yet low-fat twice-baked potato side dish with a blend of classic middle eastern flavours: chickpeas, cumin and coriander.  serve with roasts or with your favourite middle eastern main course dish.  adapted from \"practical cookery: low fat\".  these potatoes could also be served on their own as a light vegetarian meal. in view of the comments by reviewers about the potatoes being a bit dry, i have added a tablespoon of tahini. i have also added some garlic. i\\'m not sure how the recipe escaped having garlic in it when i first posted it!',\n",
       "  'time-to-make;course;main-ingredient;cuisine;preparation;occasion;healthy;side-dishes;potatoes;vegetables;asian;middle-eastern;dinner-party;low-fat;vegetarian;lebanese;dietary;low-sodium;low-cholesterol;low-saturated-fat;low-calorie;healthy-2;low-in-something;4-hours-or-less',\n",
       "  24,\n",
       "  'coriander*garlic cloves*olive oil*baking potatoes*chickpeas*ground cumin*fresh coriander*low-fat yogurt*tahini*salt & freshly ground black pepper',\n",
       "  10),\n",
       " (29,\n",
       "  'secret ingredient  bbq meatloaf',\n",
       "  342620,\n",
       "  75,\n",
       "  50969,\n",
       "  '2008-12-09',\n",
       "  9.0,\n",
       "  'i know what you might be thinking,\\'ho hum, another meatloaf recipe \" .well your right, but i think the secret ingredient sets this recipe apart from any other meatloaf in the \"zaar\"data base.please feel free to adjust any of the seasonings or veggies to suit your own personal tastes. submitted to \"zaar\" on december 9th,2008.',\n",
       "  'time-to-make;course;main-ingredient;cuisine;preparation;occasion;north-american;main-dish;beef;american;southern-united-states;oven;easy;beginner-cook;comfort-food;ground-beef;meat;taste-mood;equipment;4-hours-or-less',\n",
       "  20,\n",
       "  'garlic powder*ground black pepper*french-fried onions*egg*seasoning salt*red bell pepper*ground beef*barbecue sauce*sweet onion*cooking spray',\n",
       "  10),\n",
       " (43,\n",
       "  'don t knock it until you try it  beet cake',\n",
       "  63346,\n",
       "  65,\n",
       "  27643,\n",
       "  '2003-05-28',\n",
       "  7.0,\n",
       "  \"yes, this cake is made with beets! and you won't believe how great it is. i got the recipe from a friend who said it is the most requested cake in her family. even the kids want it for their birthday cake. i baked it for one of our family gatherings and now, i get lots of requests for it too. the batter looks red, but the red bakes out. i use an almond flavored frosting on it sometimes. other times i just serve it with homemade whipped cream.\",\n",
       "  'weeknight;time-to-make;course;main-ingredient;preparation;occasion;desserts;vegetables;oven;potluck;dinner-party;kid-friendly;cakes;dietary;to-go;equipment;small-appliance;mixer;presentation;served-cold;4-hours-or-less',\n",
       "  21,\n",
       "  'eggs*vegetable oil*flour*baking powder*vanilla*baking soda*sugar*cinnamon*beets*walnuts',\n",
       "  10)]"
      ]
     },
     "execution_count": 29,
     "metadata": {},
     "output_type": "execute_result"
    }
   ],
   "source": [
    "cur = conn.execute(\"\"\"select * from recipe where n_ingredients = 10 limit 5\"\"\")\n",
    "cur.fetchall()\n",
    "cur.close()"
   ]
  },
  {
   "cell_type": "markdown",
   "metadata": {},
   "source": [
    "6. Найдите название рецепта, для выполнения которого требуется больше всего времени."
   ]
  },
  {
   "cell_type": "code",
   "execution_count": 32,
   "metadata": {},
   "outputs": [
    {
     "data": {
      "text/plain": [
       "[('blueberry liqueur',)]"
      ]
     },
     "execution_count": 32,
     "metadata": {},
     "output_type": "execute_result"
    }
   ],
   "source": [
    "cur = conn.execute(\"\"\"select name from recipe order by minutes desc limit 1\"\"\")\n",
    "cur.fetchall()"
   ]
  },
  {
   "cell_type": "markdown",
   "metadata": {},
   "source": [
    "7. Запросите у пользователя id рецепта и верните информацию об этом рецепте. Если рецепт отсуствует, выведите соответствующее сообщение."
   ]
  },
  {
   "cell_type": "code",
   "execution_count": 46,
   "metadata": {},
   "outputs": [
    {
     "data": {
      "text/plain": [
       "[('george s at the cove  black bean soup',)]"
      ]
     },
     "execution_count": 46,
     "metadata": {},
     "output_type": "execute_result"
    }
   ],
   "source": [
    "inp_id = int(input(\"need id\"))\n",
    "cur = conn.cursor()\n",
    "# cur.execute(\"\"\"select name from recipe where id = ? \"\"\", (inp_id))\n",
    "cur.execute(f\"\"\"select name from recipe where id = {inp_id} \"\"\")\n",
    "res = cur.fetchall()\n",
    "res or \"recipe not foun\""
   ]
  },
  {
   "cell_type": "markdown",
   "metadata": {},
   "source": [
    "8. Найдите кол-во отзывов с рейтингом 5."
   ]
  },
  {
   "cell_type": "code",
   "execution_count": 51,
   "metadata": {},
   "outputs": [
    {
     "data": {
      "text/plain": [
       "[(91361,)]"
      ]
     },
     "execution_count": 51,
     "metadata": {},
     "output_type": "execute_result"
    }
   ],
   "source": [
    "cur = conn.execute(\"\"\"select count(*) from rewiew where rating = 5\"\"\")\n",
    "cur.fetchall()"
   ]
  },
  {
   "cell_type": "markdown",
   "metadata": {},
   "source": [
    "9. Найдите кол-во уникальных рецептов, не имеющих отзывов с рейтингом, меньше 4. "
   ]
  },
  {
   "cell_type": "code",
   "execution_count": 7,
   "metadata": {},
   "outputs": [
    {
     "data": {
      "text/plain": "[(20466,)]"
     },
     "execution_count": 7,
     "metadata": {},
     "output_type": "execute_result"
    }
   ],
   "source": [
    "cur = conn.execute(\"\"\"select count(*)\n",
    "from (select min(rating) as r, recipe_id\n",
    "      from rewiew\n",
    "      group by recipe_id\n",
    "      having r >= 4)\"\"\")\n",
    "cur.fetchall()"
   ]
  },
  {
   "cell_type": "markdown",
   "metadata": {},
   "source": [
    "10. Найдите кол-во рецептов, опубликованных в 2010 году и имеющих длину не менее 15 минут."
   ]
  },
  {
   "cell_type": "code",
   "execution_count": 52,
   "metadata": {},
   "outputs": [
    {
     "data": {
      "text/plain": [
       "[(1319,)]"
      ]
     },
     "execution_count": 52,
     "metadata": {},
     "output_type": "execute_result"
    }
   ],
   "source": [
    "cur = conn.execute(\"\"\"\n",
    "select count(*) from recipe where CAST(substr(submitted, 1, 4) AS INT) = 2010 and minutes >= 15\n",
    "\"\"\")\n",
    "cur.fetchall()"
   ]
  },
  {
   "cell_type": "markdown",
   "metadata": {},
   "source": [
    "11. Выберите id рецепта, название рецепта, id пользователя, оставившего отзыв, дату отзыва и рейтинг для тех рецептов, которые имеют не менее 3 ингредиентов. Отсортируйте результат по id рецепта."
   ]
  },
  {
   "cell_type": "code",
   "execution_count": null,
   "metadata": {},
   "outputs": [],
   "source": [
    "cur = conn.execute(\"\"\"\n",
    "select * from rewiew join recipe r on r.id = rewiew.recipe_id where n_ingredients >2\n",
    "order by id \n",
    "\"\"\")\n",
    "cur.fetchall()\n"
   ]
  }
 ],
 "metadata": {
  "kernelspec": {
   "display_name": "Python 3",
   "language": "python",
   "name": "python3"
  },
  "language_info": {
   "codemirror_mode": {
    "name": "ipython",
    "version": 3
   },
   "file_extension": ".py",
   "mimetype": "text/x-python",
   "name": "python",
   "nbconvert_exporter": "python",
   "pygments_lexer": "ipython3",
   "version": "3.8.2"
  }
 },
 "nbformat": 4,
 "nbformat_minor": 4
}