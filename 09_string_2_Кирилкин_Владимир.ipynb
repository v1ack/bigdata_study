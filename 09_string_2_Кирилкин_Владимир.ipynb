{
 "cells": [
  {
   "cell_type": "markdown",
   "metadata": {},
   "source": [
    "# Введение в обработку текста на естественном языке"
   ]
  },
  {
   "cell_type": "markdown",
   "metadata": {},
   "source": [
    "Материалы:\n",
    "* Макрушин С.В. Лекция 9: Введение в обработку текста на естественном языке\\\n",
    "* https://realpython.com/nltk-nlp-python/\n",
    "* https://scikit-learn.org/stable/modules/feature_extraction.html"
   ]
  },
  {
   "cell_type": "markdown",
   "metadata": {},
   "source": [
    "## Задачи для совместного разбора"
   ]
  },
  {
   "cell_type": "code",
   "execution_count": 42,
   "metadata": {},
   "outputs": [],
   "source": [
    "from sklearn.feature_extraction.text import CountVectorizer\n",
    "import pymorphy2"
   ]
  },
  {
   "cell_type": "markdown",
   "metadata": {},
   "source": [
    "1. Считайте слова из файла `litw-win.txt` и запишите их в список `words`. В заданном предложении исправьте все опечатки, заменив слова с опечатками на ближайшие (в смысле расстояния Левенштейна) к ним слова из списка `words`. Считайте, что в слове есть опечатка, если данное слово не содержится в списке `words`. "
   ]
  },
  {
   "cell_type": "code",
   "execution_count": null,
   "metadata": {},
   "outputs": [],
   "source": [
    "text = '''с велечайшим усилием выбравшись из потока убегающих людей Кутузов со свитой уменьшевшейся вдвое поехал на звуки выстрелов русских орудий'''"
   ]
  },
  {
   "cell_type": "markdown",
   "metadata": {},
   "source": [
    "2. Разбейте текст из формулировки задания 1 на слова; проведите стемминг и лемматизацию слов."
   ]
  },
  {
   "cell_type": "markdown",
   "metadata": {},
   "source": [
    "3. Преобразуйте предложения из формулировки задания 1 в векторы при помощи `CountVectorizer`."
   ]
  },
  {
   "cell_type": "markdown",
   "metadata": {},
   "source": [
    "## Лабораторная работа 9"
   ]
  },
  {
   "cell_type": "markdown",
   "metadata": {},
   "source": [
    "### Расстояние редактирования"
   ]
  },
  {
   "cell_type": "code",
   "execution_count": 2,
   "outputs": [],
   "source": [
    "from nltk import word_tokenize\n",
    "import pandas as pd"
   ],
   "metadata": {
    "collapsed": false,
    "pycharm": {
     "name": "#%%\n"
    }
   }
  },
  {
   "cell_type": "markdown",
   "metadata": {},
   "source": [
    "1.1 Загрузите предобработанные описания рецептов из файла `preprocessed_descriptions.csv`. Получите набор уникальных слов `words`, содержащихся в текстах описаний рецептов (воспользуйтесь `word_tokenize` из `nltk`). "
   ]
  },
  {
   "cell_type": "code",
   "execution_count": 4,
   "outputs": [],
   "source": [
    "descriptions = pd.read_csv('preprocessed_descriptions.csv')"
   ],
   "metadata": {
    "collapsed": false,
    "pycharm": {
     "name": "#%%\n"
    }
   }
  },
  {
   "cell_type": "code",
   "execution_count": 10,
   "outputs": [],
   "source": [
    "unique = set(i for i in word_tokenize(str(descriptions.preprocessed_descriptions)))"
   ],
   "metadata": {
    "collapsed": false,
    "pycharm": {
     "name": "#%%\n"
    }
   }
  },
  {
   "cell_type": "code",
   "execution_count": 11,
   "outputs": [
    {
     "data": {
      "text/plain": "{',',\n '...',\n '0',\n '1',\n '2',\n '29995',\n '29996',\n '29997',\n '29998',\n '29999',\n '3',\n '30000',\n '4',\n ':',\n 'Length',\n 'Name',\n 'a',\n 'an',\n 'and',\n 'ask',\n 'at',\n 'based',\n 'but',\n 'by',\n 'cake',\n 'casual',\n 'changed',\n 'chef',\n 'children',\n 'company',\n 'cookies',\n 'created',\n 'delicious',\n 'design',\n 'din',\n 'dtype',\n 'early',\n 'even',\n 'fall',\n 'family',\n 'fondue',\n 'for',\n 'fou',\n 'french',\n 'fresh',\n 'friends',\n 'g',\n 'go',\n 'heard',\n 'homem',\n 'i',\n 'is',\n 'it',\n 'ive',\n 'late',\n 'made',\n 'me',\n 'meska',\n 'my',\n 'object',\n 'of',\n 'on',\n 'original',\n 'originally',\n 'plum',\n 'preprocessed_descriptions',\n 'recipe',\n 'romantic',\n 's',\n 'scott',\n 'sisterinlaw',\n 'so',\n 'soup',\n 'summer',\n 'surprised',\n 'that',\n 'the',\n 'their',\n 'these',\n 'think',\n 'this',\n 'thought',\n 'traditional',\n 'us',\n 'very',\n 'were'}"
     },
     "execution_count": 11,
     "metadata": {},
     "output_type": "execute_result"
    }
   ],
   "source": [
    "unique"
   ],
   "metadata": {
    "collapsed": false,
    "pycharm": {
     "name": "#%%\n"
    }
   }
  },
  {
   "cell_type": "markdown",
   "metadata": {},
   "source": [
    "1.2 Сгенерируйте 5 пар случайно выбранных слов и посчитайте между ними расстояние редактирования."
   ]
  },
  {
   "cell_type": "code",
   "execution_count": 12,
   "outputs": [
    {
     "name": "stdout",
     "output_type": "stream",
     "text": [
      "['4', 'chef'] 4\n",
      "['fresh', 'cookies'] 6\n",
      "['29996', '0'] 5\n",
      "['the', '4'] 3\n",
      "['29999', 'romantic'] 8\n"
     ]
    }
   ],
   "source": [
    "from random import choices\n",
    "from nltk.metrics.distance import edit_distance\n",
    "\n",
    "for _ in range(5):\n",
    "    sample = choices(list(unique), k=2)\n",
    "    print(sample, edit_distance(*sample))"
   ],
   "metadata": {
    "collapsed": false,
    "pycharm": {
     "name": "#%%\n"
    }
   }
  },
  {
   "cell_type": "markdown",
   "metadata": {},
   "source": [
    "1.3 Напишите функцию, которая для заданного слова `word` возвращает `k` ближайших к нему слов из списка `words` (близость слов измеряется с помощью расстояния Левенштейна)"
   ]
  },
  {
   "cell_type": "code",
   "execution_count": 16,
   "outputs": [],
   "source": [
    "with open('litw-win.txt', 'r') as fp:\n",
    "    lines = fp.readlines()\n",
    "words = [line.strip().split()[-1] for line in lines]"
   ],
   "metadata": {
    "collapsed": false,
    "pycharm": {
     "name": "#%%\n"
    }
   }
  },
  {
   "cell_type": "code",
   "execution_count": 17,
   "outputs": [
    {
     "data": {
      "text/plain": "['термин', 'термина', 'термины']"
     },
     "execution_count": 17,
     "metadata": {},
     "output_type": "execute_result"
    }
   ],
   "source": [
    "def nearest(word: str, k: int):\n",
    "    return sorted(words, key=lambda x: edit_distance(word, x))[:k]\n",
    "\n",
    "\n",
    "nearest('Стемминг', 3)"
   ],
   "metadata": {
    "collapsed": false,
    "pycharm": {
     "name": "#%%\n"
    }
   }
  },
  {
   "cell_type": "markdown",
   "metadata": {},
   "source": [
    "### Стемминг, лемматизация"
   ]
  },
  {
   "cell_type": "markdown",
   "metadata": {},
   "source": [
    "2.1 На основе результатов 1.1 создайте `pd.DataFrame` со столбцами: \n",
    "    * word\n",
    "    * stemmed_word \n",
    "    * normalized_word \n",
    "\n",
    "Столбец `word` укажите в качестве индекса. \n",
    "\n",
    "Для стемминга воспользуйтесь `SnowballStemmer`, для нормализации слов - `WordNetLemmatizer`. Сравните результаты стемминга и лемматизации."
   ]
  },
  {
   "cell_type": "code",
   "execution_count": 20,
   "outputs": [
    {
     "name": "stderr",
     "output_type": "stream",
     "text": [
      "[nltk_data] Downloading package wordnet to\n",
      "[nltk_data]     C:\\Users\\Admin\\AppData\\Roaming\\nltk_data...\n",
      "[nltk_data]   Unzipping corpora\\wordnet.zip.\n"
     ]
    },
    {
     "data": {
      "text/plain": "True"
     },
     "execution_count": 20,
     "metadata": {},
     "output_type": "execute_result"
    }
   ],
   "source": [
    "import nltk\n",
    "\n",
    "nltk.download('wordnet')"
   ],
   "metadata": {
    "collapsed": false,
    "pycharm": {
     "name": "#%%\n"
    }
   }
  },
  {
   "cell_type": "code",
   "execution_count": 23,
   "outputs": [],
   "source": [
    "from nltk.stem.snowball import SnowballStemmer\n",
    "from nltk.stem import WordNetLemmatizer"
   ],
   "metadata": {
    "collapsed": false,
    "pycharm": {
     "name": "#%%\n"
    }
   }
  },
  {
   "cell_type": "code",
   "execution_count": 21,
   "outputs": [],
   "source": [
    "stemmer = SnowballStemmer('english')\n",
    "lemmatizer = WordNetLemmatizer()\n",
    "\n",
    "processed_words = pd.DataFrame(({\n",
    "    'word': x,\n",
    "    'stemmed_word': stemmer.stem(x),\n",
    "    'normalized_word': lemmatizer.lemmatize(x)\n",
    "} for x in unique\n",
    "))"
   ],
   "metadata": {
    "collapsed": false,
    "pycharm": {
     "name": "#%%\n"
    }
   }
  },
  {
   "cell_type": "code",
   "execution_count": 22,
   "outputs": [
    {
     "data": {
      "text/plain": "      word stemmed_word normalized_word\n0     cake         cake            cake\n1    think        think           think\n2        g            g               g\n3   family       famili          family\n4    29998        29998           29998\n..     ...          ...             ...\n81   scott        scott           scott\n82      me           me              me\n83     but          but             but\n84       1            1               1\n85       :            :               :\n\n[86 rows x 3 columns]",
      "text/html": "<div>\n<style scoped>\n    .dataframe tbody tr th:only-of-type {\n        vertical-align: middle;\n    }\n\n    .dataframe tbody tr th {\n        vertical-align: top;\n    }\n\n    .dataframe thead th {\n        text-align: right;\n    }\n</style>\n<table border=\"1\" class=\"dataframe\">\n  <thead>\n    <tr style=\"text-align: right;\">\n      <th></th>\n      <th>word</th>\n      <th>stemmed_word</th>\n      <th>normalized_word</th>\n    </tr>\n  </thead>\n  <tbody>\n    <tr>\n      <th>0</th>\n      <td>cake</td>\n      <td>cake</td>\n      <td>cake</td>\n    </tr>\n    <tr>\n      <th>1</th>\n      <td>think</td>\n      <td>think</td>\n      <td>think</td>\n    </tr>\n    <tr>\n      <th>2</th>\n      <td>g</td>\n      <td>g</td>\n      <td>g</td>\n    </tr>\n    <tr>\n      <th>3</th>\n      <td>family</td>\n      <td>famili</td>\n      <td>family</td>\n    </tr>\n    <tr>\n      <th>4</th>\n      <td>29998</td>\n      <td>29998</td>\n      <td>29998</td>\n    </tr>\n    <tr>\n      <th>...</th>\n      <td>...</td>\n      <td>...</td>\n      <td>...</td>\n    </tr>\n    <tr>\n      <th>81</th>\n      <td>scott</td>\n      <td>scott</td>\n      <td>scott</td>\n    </tr>\n    <tr>\n      <th>82</th>\n      <td>me</td>\n      <td>me</td>\n      <td>me</td>\n    </tr>\n    <tr>\n      <th>83</th>\n      <td>but</td>\n      <td>but</td>\n      <td>but</td>\n    </tr>\n    <tr>\n      <th>84</th>\n      <td>1</td>\n      <td>1</td>\n      <td>1</td>\n    </tr>\n    <tr>\n      <th>85</th>\n      <td>:</td>\n      <td>:</td>\n      <td>:</td>\n    </tr>\n  </tbody>\n</table>\n<p>86 rows × 3 columns</p>\n</div>"
     },
     "execution_count": 22,
     "metadata": {},
     "output_type": "execute_result"
    }
   ],
   "source": [
    "processed_words"
   ],
   "metadata": {
    "collapsed": false,
    "pycharm": {
     "name": "#%%\n"
    }
   }
  },
  {
   "cell_type": "markdown",
   "metadata": {},
   "source": [
    "2.2. Удалите стоп-слова из описаний рецептов. Какую долю об общего количества слов составляли стоп-слова? Сравните топ-10 самых часто употребляемых слов до и после удаления стоп-слов."
   ]
  },
  {
   "cell_type": "code",
   "execution_count": 25,
   "outputs": [
    {
     "name": "stderr",
     "output_type": "stream",
     "text": [
      "[nltk_data] Downloading package stopwords to\n",
      "[nltk_data]     C:\\Users\\Admin\\AppData\\Roaming\\nltk_data...\n",
      "[nltk_data]   Unzipping corpora\\stopwords.zip.\n"
     ]
    },
    {
     "data": {
      "text/plain": "True"
     },
     "execution_count": 25,
     "metadata": {},
     "output_type": "execute_result"
    }
   ],
   "source": [
    "import nltk\n",
    "\n",
    "nltk.download('stopwords')"
   ],
   "metadata": {
    "collapsed": false,
    "pycharm": {
     "name": "#%%\n"
    }
   }
  },
  {
   "cell_type": "code",
   "execution_count": 26,
   "outputs": [],
   "source": [
    "from nltk.corpus import stopwords\n",
    "\n",
    "stopwrds = stopwords.words('english')"
   ],
   "metadata": {
    "collapsed": false,
    "pycharm": {
     "name": "#%%\n"
    }
   }
  },
  {
   "cell_type": "code",
   "execution_count": 37,
   "outputs": [
    {
     "data": {
      "text/plain": "['an',\n 'original',\n 'recipe',\n 'created',\n 'by',\n 'chef',\n 'scott',\n 'meskan',\n 'georges',\n 'at',\n 'the',\n 'cove',\n 'we',\n 'enjoyed',\n 'this',\n 'when',\n 'we',\n 'visited',\n 'this',\n 'restaurant',\n 'in',\n 'la',\n 'jolla',\n 'california',\n 'this',\n 'recipe',\n 'is',\n 'requested',\n 'so',\n 'often',\n 'they',\n 'have',\n 'it',\n 'printed',\n 'and',\n 'ready',\n 'at',\n 'the',\n 'hostess',\n 'stand',\n 'its',\n 'unbeatable',\n 'at',\n 'the',\n 'restaurant',\n 'but',\n 'i',\n 'do',\n 'a',\n 'pretty',\n 'good',\n 'job',\n 'at',\n 'home',\n 'too',\n 'if',\n 'i',\n 'do',\n 'say',\n 'so',\n 'myself',\n 'my',\n 'children',\n 'and',\n 'their',\n 'friends',\n 'ask',\n 'for',\n 'my',\n 'homemade',\n 'popsicles',\n 'morning',\n 'noon',\n 'and',\n 'night',\n 'i',\n 'never',\n 'turn',\n 'them',\n 'down',\n 'who',\n 'am',\n 'i',\n 'to',\n 'tell',\n 'them',\n 'that',\n 'they',\n 'are',\n 'good',\n 'for',\n 'them',\n 'for',\n 'variety',\n 'i',\n 'substitute',\n 'different',\n 'flavours',\n 'of',\n 'frozen',\n 'juice',\n 'grape',\n 'fruit',\n 'punch',\n 'tropical',\n 'etc',\n 'these',\n 'were',\n 'so',\n 'go',\n 'it',\n 'surprised',\n 'even',\n 'me',\n 'my',\n 'sisterinlaw',\n 'made',\n 'these',\n 'for',\n 'us',\n 'at',\n 'a',\n 'family',\n 'get',\n 'together',\n 'they',\n 'are',\n 'delicious',\n 'a',\n 'little',\n 'messy',\n 'to',\n 'make',\n 'but',\n 'worth',\n 'the',\n 'effort',\n 'have',\n 'a',\n 'helper',\n 'and',\n 'make',\n 'an',\n 'i',\n 'think',\n 'a',\n 'fondue',\n 'is',\n 'a',\n 'very',\n 'romantic',\n 'casual',\n 'dinner',\n 'or',\n 'wonderful',\n 'for',\n 'after',\n 'the',\n 'theatre',\n 'snack',\n 'served',\n 'with',\n 'a',\n 'robust',\n 'red',\n 'wine',\n 'for',\n 'dinner',\n 'serve',\n 'with',\n 'rice',\n 'a',\n 'small',\n 'salad',\n 'almond',\n 'rice',\n 'pilaf',\n 'is',\n 'a',\n 'great',\n 'accompaniment',\n 'recipe',\n 'posted',\n 'separately',\n 'to',\n 'cook',\n 'the',\n 'meat',\n 'you',\n 'must',\n 'first',\n 'heat',\n 'your',\n 'oil',\n 'i',\n 'do',\n 'this',\n 'by',\n 'heating',\n 'it',\n 'to',\n 'almost',\n 'boiling',\n 'on',\n 'the',\n 'stove',\n 'and',\n 'then',\n 'transfering',\n 'it',\n 'to',\n 'your',\n 'fondue',\n 'burner',\n 'buy',\n 'good',\n 'quality',\n 'meat',\n 'i',\n 'recommend',\n 'only',\n 'using',\n 'a',\n 'fillet',\n 'have',\n 'at',\n 'least',\n '3',\n 'sauces',\n 'if',\n 'you',\n 'want',\n 'to',\n 'serve',\n '46',\n 'people',\n 'just',\n 'increase',\n 'the',\n 'meat',\n 'to',\n '2',\n 'lbs',\n 'there',\n 'will',\n 'be',\n 'enough',\n 'saucethese',\n 'sauce',\n 'recipes',\n 'came',\n 'from',\n 'ok',\n 'my',\n 'heritage',\n 'has',\n 'been',\n 'revealed',\n 'these',\n 'are',\n 'simply',\n 'wonderful',\n 'a',\n 'favorite',\n 'among',\n 'our',\n 'community',\n 'theyre',\n 'sure',\n 'to',\n 'bring',\n 'a',\n 'smile',\n 'to',\n 'your',\n 'face',\n 'enjoy',\n 'this',\n 'is',\n 'a',\n 'very',\n 'versatile',\n 'and',\n 'widely',\n 'enjoyed',\n 'pasta',\n 'dish',\n 'with',\n 'chicken',\n 'it',\n 'has',\n 'an',\n 'asian',\n 'influence',\n 'with',\n 'a',\n 'very',\n 'nice',\n 'sesame',\n 'flavor',\n 'i',\n 'whipped',\n 'it',\n 'up',\n 'one',\n 'evening',\n 'with',\n 'a',\n 'limited',\n 'pantry',\n 'and',\n 'my',\n 'little',\n 'one',\n 'named',\n 'it',\n 'joint',\n 'collaboration',\n 'on',\n 'this',\n 'one',\n 'folks',\n 'oh',\n 'yea',\n 'and',\n 'the',\n 'key',\n 'is',\n 'with',\n 'the',\n 'fresh',\n 'ginger',\n 'you',\n 'just',\n 'have',\n 'to',\n 'try',\n 'it',\n 'to',\n 'believe',\n 'it',\n 'this',\n 'is',\n 'the',\n 'recipe',\n 'that',\n 'we',\n 'use',\n 'at',\n 'my',\n 'school',\n 'cafeteria',\n 'for',\n 'chocolate',\n 'chip',\n 'cookies',\n 'they',\n 'must',\n 'be',\n 'the',\n 'best',\n 'chocolate',\n 'chip',\n 'cookies',\n 'i',\n 'have',\n 'ever',\n 'had',\n 'if',\n 'you',\n 'dont',\n 'have',\n 'margarine',\n 'or',\n 'dont',\n 'like',\n 'it',\n 'then',\n 'just',\n 'use',\n 'butter',\n 'softened',\n 'instead',\n 'since',\n 'there',\n 'are',\n 'already',\n '411',\n 'recipes',\n 'for',\n 'broccoli',\n 'casserole',\n 'posted',\n 'to',\n 'zaar',\n 'i',\n 'decided',\n 'to',\n 'call',\n 'this',\n 'one',\n '412',\n 'broccoli',\n 'casserolei',\n 'dont',\n 'think',\n 'there',\n 'are',\n 'any',\n 'like',\n 'this',\n 'one',\n 'in',\n 'the',\n 'database',\n 'i',\n 'based',\n 'this',\n 'one',\n 'on',\n 'the',\n 'famous',\n 'green',\n 'bean',\n 'casserole',\n 'from',\n 'campbells',\n 'soup',\n 'but',\n 'i',\n 'think',\n 'mine',\n 'is',\n 'better',\n 'since',\n 'i',\n 'dont',\n 'like',\n 'cream',\n 'of',\n 'mushroom',\n 'soupsubmitted',\n 'to',\n 'zaar',\n 'on',\n 'may',\n '28th2008',\n 'this',\n 'is',\n 'a',\n 'recipe',\n 'that',\n 'my',\n 'mother',\n 'got',\n 'from',\n 'some',\n 'cooking',\n 'contest',\n 'in',\n 'the',\n '50s',\n 'it',\n 'is',\n 'delicious',\n 'and',\n 'filling',\n 'on',\n 'a',\n 'cold',\n 'night',\n 'we',\n 'all',\n 'loved',\n 'it',\n 'so',\n 'much',\n 'that',\n 'we',\n 'would',\n 'call',\n 'it',\n 'the',\n '25',\n 'billion',\n 'dollar',\n 'casserole',\n 'unfortunately',\n 'my',\n 'family',\n 'isnt',\n 'big',\n 'on',\n 'dumplings',\n 'so',\n 'i',\n 'cant',\n 'make',\n 'this',\n 'as',\n 'often',\n 'as',\n 'i',\n 'would',\n 'like',\n 'these',\n 'are',\n 'great',\n 'the',\n 'perfect',\n 'name',\n 'for',\n 'them',\n 'i',\n 'made',\n 'this',\n 'recipe',\n 'myself',\n 'when',\n 'i',\n 'was',\n '13',\n 'i',\n 'was',\n 'on',\n 'here',\n 'trying',\n 'to',\n 'find',\n 'a',\n 'recipe',\n 'for',\n 'potato',\n 'soup',\n 'because',\n 'i',\n 'liked',\n 'my',\n 'moms',\n 'so',\n 'much',\n 'when',\n 'i',\n 'was',\n 'looking',\n 'i',\n 'couldnt',\n 'find',\n 'a',\n 'simple',\n 'recipe',\n 'for',\n 'it',\n 'that',\n 'looked',\n 'good',\n 'so',\n 'i',\n 'decided',\n 'to',\n 'make',\n 'my',\n 'own',\n 'now',\n 'my',\n 'soup',\n 'tastes',\n 'even',\n 'better',\n 'than',\n 'my',\n 'moms',\n 'and',\n 'i',\n 'always',\n 'make',\n 'it',\n 'for',\n 'family',\n 'this',\n 'recipe',\n 'has',\n 'been',\n 'posted',\n 'here',\n 'for',\n 'play',\n 'in',\n 'zwt9',\n 'scandinavia',\n 'this',\n 'recipe',\n 'was',\n 'found',\n 'at',\n 'website',\n 'mindspringcom',\n 'christians',\n 'danish',\n 'recipes',\n 'this',\n 'is',\n 'a',\n 'neverfail',\n 'muffin',\n 'recipe',\n 'its',\n 'a',\n 'blank',\n 'canvas',\n 'for',\n 'anything',\n 'you',\n 'can',\n 'dream',\n 'up',\n 'i',\n 'like',\n 'coconut',\n 'and',\n 'canned',\n 'chopped',\n 'pineapple',\n 'that',\n 'has',\n 'been',\n 'well',\n 'drained',\n 'you',\n 'choose',\n 'what',\n 'you',\n 'want',\n 'to',\n 'add',\n 'in',\n 'if',\n 'you',\n 'like',\n 'a',\n 'sweet',\n 'muffin',\n 'add',\n 'in',\n 'more',\n 'sugar',\n 'this',\n 'is',\n 'again',\n 'from',\n 'vegwebcom',\n 'this',\n 'got',\n 'absolutely',\n 'amazing',\n 'reviews',\n 'over',\n 'there',\n 'so',\n 'im',\n 'guessing',\n 'its',\n 'pretty',\n 'darn',\n 'good',\n 'multiple',\n 'users',\n 'said',\n 'it',\n 'would',\n 'even',\n 'fool',\n 'the',\n 'dairy',\n 'lovers',\n 'a',\n 'few',\n 'users',\n 'suggested',\n 'only',\n 'using',\n 'half',\n 'the',\n 'recommended',\n 'amount',\n 'of',\n 'tofu',\n '1',\n '12oz',\n 'container',\n 'others',\n 'said',\n 'they',\n 'used',\n 'turbinado',\n 'sugar',\n 'in',\n 'place',\n 'of',\n 'the',\n 'syrup',\n 'cant',\n 'wait',\n 'to',\n 'try',\n 'it',\n 'lem',\n 'me',\n 'know',\n 'what',\n 'you',\n 'think',\n 'ok',\n 'there',\n 'are',\n 'different',\n 'version',\n 'of',\n 'burek',\n 'some',\n 'eastern',\n 'europeans',\n 'even',\n 'greeks',\n 'roll',\n 'a',\n 'fresh',\n 'dough',\n 'and',\n 'then',\n 'spend',\n 'more',\n 'time',\n 'rolling',\n 'folding',\n 'and',\n 'waiting',\n 'but',\n 'if',\n 'youre',\n 'like',\n 'me',\n 'and',\n 'my',\n 'mom',\n 'use',\n 'phyllo',\n 'its',\n 'quick',\n 'and',\n 'you',\n 'can',\n 'always',\n 'keep',\n 'it',\n 'in',\n 'the',\n 'freezer',\n 'i',\n 'remember',\n 'while',\n 'i',\n 'was',\n 'growing',\n 'up',\n 'and',\n 'my',\n 'mom',\n 'would',\n 'make',\n 'this',\n 'every',\n 'sunday',\n 'the',\n 'smell',\n 'alone',\n 'coming',\n 'from',\n 'our',\n 'kitchen',\n 'used',\n 'to',\n 'make',\n 'me',\n 'come',\n 'running',\n 'home',\n 'please',\n 'excuse',\n 'the',\n 'directions',\n 'but',\n 'the',\n 'recipe',\n 'doesnt',\n 'really',\n 'have',\n 'measurements',\n 'or',\n 'written',\n 'directions',\n 'this',\n 'is',\n 'an',\n 'old',\n 'recipe',\n 'and',\n 'no',\n 'one',\n 'ever',\n 'wrote',\n 'it',\n 'down',\n 'tender',\n 'garlicky',\n 'and',\n 'full',\n 'of',\n 'oregano',\n 'n',\n 'stuff',\n 'start',\n 'this',\n 'one',\n 'a',\n 'day',\n 'ahead',\n 'the',\n 'beef',\n 'slices',\n 'need',\n 'an',\n 'overnight',\n 'stay',\n 'in',\n 'da',\n 'gravy',\n 'to',\n 'be',\n 'at',\n 'their',\n 'best',\n 'and',\n 'please',\n 'dont',\n 'overcook',\n 'the',\n 'roast',\n 'as',\n 'it',\n 'rests',\n 'right',\n 'out',\n 'of',\n 'the',\n 'oven',\n 'and',\n 'as',\n 'its',\n 'reheated',\n 'itll',\n 'stop',\n 'mooing',\n 'serve',\n 'on',\n 'crusty',\n 'italian',\n 'sandwich',\n 'rolls',\n 'add',\n 'sauteed',\n 'peppers',\n 'if',\n 'you',\n 'like',\n 'but',\n 'too',\n 'much',\n 'more',\n 'and',\n 'it',\n 'starts',\n 'looking',\n 'like',\n 'a',\n 'philly',\n 'steak',\n 'n',\n 'cheese',\n 'a',\n 'whole',\n 'other',\n 'beast',\n 'prep',\n 'time',\n 'includes',\n 'overnight',\n 'marinating',\n 'this',\n 'is',\n 'something',\n 'my',\n 'grandma',\n 'made',\n 'at',\n 'christmas',\n 'i',\n 'dont',\n 'know',\n 'where',\n 'she',\n 'originally',\n 'got',\n 'the',\n 'recipe',\n 'but',\n 'the',\n 'recipe',\n 'card',\n 'for',\n 'it',\n 'has',\n 'her',\n 'handwriting',\n 'on',\n 'it',\n 'i',\n 'call',\n 'them',\n 'german',\n 'carrots',\n 'because',\n 'grandmas',\n 'grandparents',\n 'came',\n 'over',\n 'from',\n 'germany',\n 'my',\n 'family',\n 'mostly',\n 'eats',\n 'these',\n 'at',\n 'christmas',\n 'and',\n 'we',\n 'usually',\n 'fight',\n 'over',\n 'who',\n 'gets',\n 'the',\n 'little',\n 'bit',\n 'thats',\n 'leftover',\n 'its',\n 'a',\n 'really',\n 'good',\n 'barbecued',\n 'carrot',\n 'recipe',\n 'i',\n 'made',\n 'this',\n 'once',\n 'hoping',\n 'to',\n 'have',\n 'something',\n 'light',\n 'for',\n 'lunch',\n 'not',\n 'only',\n 'was',\n 'it',\n 'easy',\n 'but',\n 'it',\n 'tasted',\n 'great',\n 'and',\n 'the',\n 'bulk',\n 'of',\n 'the',\n 'rice',\n 'kept',\n 'me',\n 'full',\n 'for',\n 'hours',\n 'my',\n 'old',\n 'friend',\n 'pat',\n 'gave',\n ...]"
     },
     "execution_count": 37,
     "metadata": {},
     "output_type": "execute_result"
    }
   ],
   "source": [
    "tokenized_ = [word_tokenize(str(i)) for i in descriptions.preprocessed_descriptions]\n",
    "tokenized = [item for sublist in tokenized_ for item in sublist]\n",
    "tokenized"
   ],
   "metadata": {
    "collapsed": false,
    "pycharm": {
     "name": "#%%\n"
    }
   }
  },
  {
   "cell_type": "code",
   "execution_count": 38,
   "outputs": [
    {
     "data": {
      "text/plain": "0.45682781101281494"
     },
     "execution_count": 38,
     "metadata": {},
     "output_type": "execute_result"
    }
   ],
   "source": [
    "sum([i in stopwrds for i in tokenized]) / len(tokenized)"
   ],
   "metadata": {
    "collapsed": false,
    "pycharm": {
     "name": "#%%\n"
    }
   }
  },
  {
   "cell_type": "code",
   "execution_count": 41,
   "outputs": [
    {
     "name": "stdout",
     "output_type": "stream",
     "text": [
      "До\n",
      "[('the', 40210), ('a', 34994), ('and', 30279), ('this', 27048), ('i', 25111), ('to', 23499), ('is', 20290), ('it', 19863), ('of', 18372), ('for', 15988)]\n",
      "После\n",
      "[('recipe', 14957), ('make', 6353), ('time', 5180), ('use', 4635), ('great', 4453), ('like', 4175), ('easy', 4175), ('one', 3886), ('good', 3820), ('made', 3814)]\n"
     ]
    }
   ],
   "source": [
    "from collections import Counter\n",
    "\n",
    "c = Counter(tokenized)\n",
    "print('До')\n",
    "print(c.most_common(10))\n",
    "\n",
    "c = Counter(filter(lambda x: x not in stopwrds, tokenized))\n",
    "print('После')\n",
    "print(c.most_common(10))"
   ],
   "metadata": {
    "collapsed": false,
    "pycharm": {
     "name": "#%%\n"
    }
   }
  },
  {
   "cell_type": "markdown",
   "metadata": {},
   "source": [
    "### Векторное представление текста"
   ]
  },
  {
   "cell_type": "markdown",
   "metadata": {},
   "source": [
    "3.1 Выберите случайным образом 5 рецептов из набора данных. Представьте описание каждого рецепта в виде числового вектора при помощи `TfidfVectorizer`"
   ]
  },
  {
   "cell_type": "code",
   "execution_count": 42,
   "outputs": [],
   "source": [
    "from sklearn.feature_extraction.text import TfidfVectorizer\n",
    "\n",
    "sample = descriptions.sample(5)\n",
    "vec = TfidfVectorizer()\n",
    "res = vec.fit_transform(sample.preprocessed_descriptions).toarray()"
   ],
   "metadata": {
    "collapsed": false,
    "pycharm": {
     "name": "#%%\n"
    }
   }
  },
  {
   "cell_type": "markdown",
   "metadata": {},
   "source": [
    "3.2 Вычислите близость между каждой парой рецептов, используя косинусное расстояние (`scipy.spatial.distance.cosine`) Результаты оформите в виде таблицы `pd.DataFrame`. В качестве названий строк и столбцов используйте названия рецептов."
   ]
  },
  {
   "cell_type": "code",
   "execution_count": 43,
   "outputs": [
    {
     "data": {
      "text/plain": "                                     erishte with spicy meats  \\\nerishte with spicy meats                                    0   \nvenison   pressure canned                            0.967604   \nbraised fennel and onion pasta sauce                 0.901855   \namazing homemade meatballs                           0.836952   \nrhode island hot wiener sauce  1                     0.885993   \n\n                                     venison   pressure canned  \\\nerishte with spicy meats                              0.967604   \nvenison   pressure canned                                    0   \nbraised fennel and onion pasta sauce                  0.923782   \namazing homemade meatballs                            0.918276   \nrhode island hot wiener sauce  1                      0.925808   \n\n                                     braised fennel and onion pasta sauce  \\\nerishte with spicy meats                                         0.901855   \nvenison   pressure canned                                        0.923782   \nbraised fennel and onion pasta sauce                                    0   \namazing homemade meatballs                                       0.891979   \nrhode island hot wiener sauce  1                                 0.877328   \n\n                                     amazing homemade meatballs  \\\nerishte with spicy meats                               0.836952   \nvenison   pressure canned                              0.918276   \nbraised fennel and onion pasta sauce                   0.891979   \namazing homemade meatballs                                    0   \nrhode island hot wiener sauce  1                       0.862057   \n\n                                     rhode island hot wiener sauce  1  \nerishte with spicy meats                                     0.885993  \nvenison   pressure canned                                    0.925808  \nbraised fennel and onion pasta sauce                         0.877328  \namazing homemade meatballs                                   0.862057  \nrhode island hot wiener sauce  1                                    0  ",
      "text/html": "<div>\n<style scoped>\n    .dataframe tbody tr th:only-of-type {\n        vertical-align: middle;\n    }\n\n    .dataframe tbody tr th {\n        vertical-align: top;\n    }\n\n    .dataframe thead th {\n        text-align: right;\n    }\n</style>\n<table border=\"1\" class=\"dataframe\">\n  <thead>\n    <tr style=\"text-align: right;\">\n      <th></th>\n      <th>erishte with spicy meats</th>\n      <th>venison   pressure canned</th>\n      <th>braised fennel and onion pasta sauce</th>\n      <th>amazing homemade meatballs</th>\n      <th>rhode island hot wiener sauce  1</th>\n    </tr>\n  </thead>\n  <tbody>\n    <tr>\n      <th>erishte with spicy meats</th>\n      <td>0</td>\n      <td>0.967604</td>\n      <td>0.901855</td>\n      <td>0.836952</td>\n      <td>0.885993</td>\n    </tr>\n    <tr>\n      <th>venison   pressure canned</th>\n      <td>0.967604</td>\n      <td>0</td>\n      <td>0.923782</td>\n      <td>0.918276</td>\n      <td>0.925808</td>\n    </tr>\n    <tr>\n      <th>braised fennel and onion pasta sauce</th>\n      <td>0.901855</td>\n      <td>0.923782</td>\n      <td>0</td>\n      <td>0.891979</td>\n      <td>0.877328</td>\n    </tr>\n    <tr>\n      <th>amazing homemade meatballs</th>\n      <td>0.836952</td>\n      <td>0.918276</td>\n      <td>0.891979</td>\n      <td>0</td>\n      <td>0.862057</td>\n    </tr>\n    <tr>\n      <th>rhode island hot wiener sauce  1</th>\n      <td>0.885993</td>\n      <td>0.925808</td>\n      <td>0.877328</td>\n      <td>0.862057</td>\n      <td>0</td>\n    </tr>\n  </tbody>\n</table>\n</div>"
     },
     "execution_count": 43,
     "metadata": {},
     "output_type": "execute_result"
    }
   ],
   "source": [
    "from scipy.spatial.distance import cosine\n",
    "\n",
    "df = pd.DataFrame(index=sample.name.to_list(), columns=sample.name.to_list())\n",
    "for i in range(len(res)):\n",
    "    df.iloc[i, i] = 0\n",
    "    for j in range(i + 1, len(res)):\n",
    "        dist = cosine(res[i], res[j])\n",
    "        df.iloc[i, j] = dist\n",
    "        df.iloc[j, i] = dist\n",
    "df"
   ],
   "metadata": {
    "collapsed": false,
    "pycharm": {
     "name": "#%%\n"
    }
   }
  },
  {
   "cell_type": "markdown",
   "metadata": {
    "pycharm": {
     "name": "#%% md\n"
    }
   },
   "source": [
    "3.3 Какие рецепты являются наиболее похожими? Прокомментируйте результат"
   ]
  },
  {
   "cell_type": "markdown",
   "source": [
    "Наиболее похожими являются `venison   pressure canned` и `erishte with spicy meats`"
   ],
   "metadata": {
    "collapsed": false
   }
  },
  {
   "cell_type": "code",
   "execution_count": 44,
   "outputs": [
    {
     "data": {
      "text/plain": "       Unnamed: 0                                  name  \\\n10602       10602              erishte with spicy meats   \n28804       28804             venison   pressure canned   \n3601         3601  braised fennel and onion pasta sauce   \n634           634            amazing homemade meatballs   \n22461       22461      rhode island hot wiener sauce  1   \n\n                               preprocessed_descriptions  \n10602  erishte is turkish handmade macaroni and this ...  \n28804  a great way to have cooked venison in your pan...  \n3601   fennel is a delightful veggie tasting like lic...  \n634    i saw a few recipes and tried to combine some ...  \n22461  every state has its own food specialties hawai...  ",
      "text/html": "<div>\n<style scoped>\n    .dataframe tbody tr th:only-of-type {\n        vertical-align: middle;\n    }\n\n    .dataframe tbody tr th {\n        vertical-align: top;\n    }\n\n    .dataframe thead th {\n        text-align: right;\n    }\n</style>\n<table border=\"1\" class=\"dataframe\">\n  <thead>\n    <tr style=\"text-align: right;\">\n      <th></th>\n      <th>Unnamed: 0</th>\n      <th>name</th>\n      <th>preprocessed_descriptions</th>\n    </tr>\n  </thead>\n  <tbody>\n    <tr>\n      <th>10602</th>\n      <td>10602</td>\n      <td>erishte with spicy meats</td>\n      <td>erishte is turkish handmade macaroni and this ...</td>\n    </tr>\n    <tr>\n      <th>28804</th>\n      <td>28804</td>\n      <td>venison   pressure canned</td>\n      <td>a great way to have cooked venison in your pan...</td>\n    </tr>\n    <tr>\n      <th>3601</th>\n      <td>3601</td>\n      <td>braised fennel and onion pasta sauce</td>\n      <td>fennel is a delightful veggie tasting like lic...</td>\n    </tr>\n    <tr>\n      <th>634</th>\n      <td>634</td>\n      <td>amazing homemade meatballs</td>\n      <td>i saw a few recipes and tried to combine some ...</td>\n    </tr>\n    <tr>\n      <th>22461</th>\n      <td>22461</td>\n      <td>rhode island hot wiener sauce  1</td>\n      <td>every state has its own food specialties hawai...</td>\n    </tr>\n  </tbody>\n</table>\n</div>"
     },
     "execution_count": 44,
     "metadata": {},
     "output_type": "execute_result"
    }
   ],
   "source": [
    "sample"
   ],
   "metadata": {
    "collapsed": false,
    "pycharm": {
     "name": "#%%\n"
    }
   }
  },
  {
   "cell_type": "markdown",
   "source": [
    "erishte is turkish handmade macaroni and this is my private recipe which is exotic and delicious\n",
    "\n",
    "a great way to have cooked venison in your pantry ready to heat  eat great flavor  it makes its own juicegravy this recipe was given to me by a friend requires a pressure canner"
   ],
   "metadata": {
    "collapsed": false
   }
  }
 ],
 "metadata": {
  "kernelspec": {
   "display_name": "Python 3 (ipykernel)",
   "language": "python",
   "name": "python3"
  },
  "language_info": {
   "codemirror_mode": {
    "name": "ipython",
    "version": 3
   },
   "file_extension": ".py",
   "mimetype": "text/x-python",
   "name": "python",
   "nbconvert_exporter": "python",
   "pygments_lexer": "ipython3",
   "version": "3.8.3"
  }
 },
 "nbformat": 4,
 "nbformat_minor": 4
}