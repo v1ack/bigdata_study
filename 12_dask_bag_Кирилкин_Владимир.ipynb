{
 "cells": [
  {
   "cell_type": "markdown",
   "metadata": {
    "id": "NOSEH1evKGwr"
   },
   "source": [
    "# Dask Bag"
   ]
  },
  {
   "cell_type": "markdown",
   "metadata": {
    "id": "xtvmWEUkKGw5"
   },
   "source": [
    "Материалы: \n",
    "* Макрушин С.В. Лекция 12: Map-Reduce\n",
    "* https://docs.dask.org/en/latest/bag.html\n",
    "* Jesse C. Daniel. Data Science with Python and Dask. "
   ]
  },
  {
   "cell_type": "markdown",
   "metadata": {
    "id": "UaEU99P9KGxA"
   },
   "source": [
    "## Лабораторная работа 12"
   ]
  },
  {
   "cell_type": "code",
   "execution_count": 1,
   "metadata": {
    "id": "6LPgNuUOKGxC"
   },
   "outputs": [],
   "source": [
    "import dask.bag as db\n",
    "import json\n",
    "import re"
   ]
  },
  {
   "cell_type": "markdown",
   "metadata": {
    "id": "zKrBWkiXKGxH"
   },
   "source": [
    "1. В файлах архиве `reviews_full.zip` находятся файлы, содержащие информацию об отзывах к рецептам в формате JSON Lines. Отзывы разделены на файлы в зависимости от оценки (например, в файле `reviews_1.json` находятся отзывы с оценкой 1). Считайте файлы из этого архива в виде `dask.bag`. Преобразуйте текстовое содержимое файлов с помощью модуля `json`. Выведите на экран первые 5 элементов полученного `bag`."
   ]
  },
  {
   "cell_type": "code",
   "execution_count": 2,
   "metadata": {
    "id": "uvFLaxJxZEi9"
   },
   "outputs": [],
   "source": [
    "reviews = db.read_text('./reviews_full/reviews_*.json').map(json.loads)"
   ]
  },
  {
   "cell_type": "code",
   "execution_count": 3,
   "metadata": {
    "colab": {
     "base_uri": "https://localhost:8080/"
    },
    "id": "ff1dI6K-abO3",
    "outputId": "732e2547-f895-4ecd-9c63-1b8e622199bb"
   },
   "outputs": [
    {
     "data": {
      "text/plain": "({'user_id': 452355,\n  'recipe_id': 292657,\n  'date': '2016-05-08',\n  'review': 'WOW!!! This is the best. I have never been able to make homemade enchiladas that taste like the Mexican restaurants. I made this last night for my family and they said they will never have enchiladas at the Mexican Restaurants again. Thanks for sharing.'},\n {'user_id': 329304,\n  'recipe_id': 433404,\n  'date': '2006-06-14',\n  'review': 'This was good but the dressing needed something and I found it to be a little too sweet, next time I will experiment with some garlic and herbs and reduce the sugar slightly, thanks for sharing kcdlong!...Kitten'},\n {'user_id': 227932,\n  'recipe_id': 2008187,\n  'date': '1985-11-19',\n  'review': 'Very good,it was a hit for my family. I used 6 cloves of garlic and had 1 lb beef and  Johnsonville sausage,1/2 lb hot and  1/2 lb honey garlic( which I wanted to use). That was a perfect combo for us. The sausage gave it nice flavor No guestion , I will be making this often.'},\n {'user_id': 171468,\n  'recipe_id': 270716,\n  'date': '2019-05-21',\n  'review': 'Made for ZWT-8 Family Picks after I saw these mentioned in the Family Picks thread. So I got up this morning, made my morning coffee while the oven was heating & then made these quick-fix sweet treats B4 I was ready for my 2nd cup of coffee. I used 8\" tortillas (all I had on-hand) & cut them into 8 wedges. Then I used 2 of my Pamperd Chef gadgets .. my sml basting brush to spread the honey on the warm tortillas & my flour/sugar shaker to sprinkle the powd sugar/cinnamon mixture atop the honeyed tortillas. It might have taken a total of 2 min from oven to tasting! Yum! Using the same \"sweet mix\" these would also be good w/butter, cream cheese or even lime juice. Can\\'t wait to try them w/lime juice! Thx for sharing this tasty little treat w/us.'},\n {'user_id': 91392,\n  'recipe_id': 1159916,\n  'date': '1972-09-18',\n  'review': \"Very nice slaw. I especially like that it doesn't have the mayo dressing. I used a prepackaged Cole slaw mix, so i didn't include the carrots nor the nuts. I also doubled the sauce. :)\"})"
     },
     "execution_count": 3,
     "metadata": {},
     "output_type": "execute_result"
    }
   ],
   "source": [
    "reviews.take(5)"
   ]
  },
  {
   "cell_type": "markdown",
   "metadata": {
    "id": "5ZjtbAU9KGxI"
   },
   "source": [
    "2. Модифицируйте функцию разбора JSON таким образом, чтобы в каждый словарь c информацией об отзыве добавить ключ `rating`. Значение получите на основе названия файла (см. аргумент `include_path`), использовав для этого регулярное выражение."
   ]
  },
  {
   "cell_type": "code",
   "execution_count": 4,
   "metadata": {
    "id": "3qD0oBRRe_dW"
   },
   "outputs": [],
   "source": [
    "def rate(line):\n",
    "    res = json.loads(line[0])\n",
    "    res['rating'] = int(re.findall('reviews_(\\d)\\.json', line[1])[0])\n",
    "    return res"
   ]
  },
  {
   "cell_type": "code",
   "execution_count": 5,
   "metadata": {
    "id": "5hmRQpCUbj1H"
   },
   "outputs": [],
   "source": [
    "reviews = db.read_text(\n",
    "    './reviews_full/reviews_*.json',\n",
    "    include_path=True\n",
    ").map(rate)"
   ]
  },
  {
   "cell_type": "code",
   "execution_count": 6,
   "metadata": {
    "colab": {
     "base_uri": "https://localhost:8080/"
    },
    "id": "FzESM2VWd6oI",
    "outputId": "fd537077-6c67-4b52-b639-da04cea0439e"
   },
   "outputs": [
    {
     "data": {
      "text/plain": "({'user_id': 452355,\n  'recipe_id': 292657,\n  'date': '2016-05-08',\n  'review': 'WOW!!! This is the best. I have never been able to make homemade enchiladas that taste like the Mexican restaurants. I made this last night for my family and they said they will never have enchiladas at the Mexican Restaurants again. Thanks for sharing.',\n  'rating': 0},\n {'user_id': 329304,\n  'recipe_id': 433404,\n  'date': '2006-06-14',\n  'review': 'This was good but the dressing needed something and I found it to be a little too sweet, next time I will experiment with some garlic and herbs and reduce the sugar slightly, thanks for sharing kcdlong!...Kitten',\n  'rating': 0},\n {'user_id': 227932,\n  'recipe_id': 2008187,\n  'date': '1985-11-19',\n  'review': 'Very good,it was a hit for my family. I used 6 cloves of garlic and had 1 lb beef and  Johnsonville sausage,1/2 lb hot and  1/2 lb honey garlic( which I wanted to use). That was a perfect combo for us. The sausage gave it nice flavor No guestion , I will be making this often.',\n  'rating': 0},\n {'user_id': 171468,\n  'recipe_id': 270716,\n  'date': '2019-05-21',\n  'review': 'Made for ZWT-8 Family Picks after I saw these mentioned in the Family Picks thread. So I got up this morning, made my morning coffee while the oven was heating & then made these quick-fix sweet treats B4 I was ready for my 2nd cup of coffee. I used 8\" tortillas (all I had on-hand) & cut them into 8 wedges. Then I used 2 of my Pamperd Chef gadgets .. my sml basting brush to spread the honey on the warm tortillas & my flour/sugar shaker to sprinkle the powd sugar/cinnamon mixture atop the honeyed tortillas. It might have taken a total of 2 min from oven to tasting! Yum! Using the same \"sweet mix\" these would also be good w/butter, cream cheese or even lime juice. Can\\'t wait to try them w/lime juice! Thx for sharing this tasty little treat w/us.',\n  'rating': 0},\n {'user_id': 91392,\n  'recipe_id': 1159916,\n  'date': '1972-09-18',\n  'review': \"Very nice slaw. I especially like that it doesn't have the mayo dressing. I used a prepackaged Cole slaw mix, so i didn't include the carrots nor the nuts. I also doubled the sauce. :)\",\n  'rating': 0})"
     },
     "execution_count": 6,
     "metadata": {},
     "output_type": "execute_result"
    }
   ],
   "source": [
    "reviews.take(5)"
   ]
  },
  {
   "cell_type": "markdown",
   "metadata": {
    "id": "ZwybscMWKGxI"
   },
   "source": [
    "3. Посчитайте количество отзывов в исходном датасете."
   ]
  },
  {
   "cell_type": "code",
   "execution_count": 7,
   "metadata": {
    "colab": {
     "base_uri": "https://localhost:8080/"
    },
    "id": "nwVbwewnkgtg",
    "outputId": "198665cf-fa7e-482b-9af2-df59c8126c3d"
   },
   "outputs": [
    {
     "data": {
      "text/plain": "9057540"
     },
     "execution_count": 7,
     "metadata": {},
     "output_type": "execute_result"
    }
   ],
   "source": [
    "reviews.count().compute()"
   ]
  },
  {
   "cell_type": "markdown",
   "metadata": {
    "id": "bGU5PKsyKGxJ"
   },
   "source": [
    "4. Отфильтруйте `bag`, сохранив только отзывы, оставленные в 2014 и 2015 годах."
   ]
  },
  {
   "cell_type": "code",
   "execution_count": 10,
   "metadata": {
    "id": "oxMnMYURnpDp"
   },
   "outputs": [],
   "source": [
    "r_1415 = reviews.filter(lambda x: (x['date'][:4] == '2014' or x['date'][:4] == '2015'))"
   ]
  },
  {
   "cell_type": "markdown",
   "metadata": {
    "id": "920-VrUPKGxK"
   },
   "source": [
    "5. Выполните препроцессинг отзывов:\n",
    "    * привести строки к нижнему регистру\n",
    "    * обрезать пробельные символы в начале и конце строки\n",
    "    * удалите все символы, кроме английских букв и пробелов\n",
    "    \n",
    "Примените препроцессинг ко всем записям из `bag`, полученного в задании 4."
   ]
  },
  {
   "cell_type": "code",
   "execution_count": 8,
   "metadata": {
    "id": "OEeg2EW9o0m_"
   },
   "outputs": [],
   "source": [
    "def preprocess(review):\n",
    "    reg = re.compile('[^a-z ]')\n",
    "    review['review'] = reg.sub('', review['review'].lower().strip())\n",
    "    return review"
   ]
  },
  {
   "cell_type": "code",
   "execution_count": 11,
   "metadata": {
    "id": "HK5xw9uDoX4w"
   },
   "outputs": [],
   "source": [
    "reviews = r_1415.map(preprocess)"
   ]
  },
  {
   "cell_type": "markdown",
   "metadata": {
    "id": "JoVr4B6GKGxL"
   },
   "source": [
    "6. Посчитайте количество отзывов в датасете, полученном в результате решения задачи 5. В случае ошибок прокомментируйте результат и исправьте функцию препроцессинга."
   ]
  },
  {
   "cell_type": "code",
   "execution_count": 12,
   "metadata": {
    "colab": {
     "base_uri": "https://localhost:8080/"
    },
    "id": "X6_35Xl4qYad",
    "outputId": "2a3b73a5-c826-4832-9501-e19c2a51c265"
   },
   "outputs": [
    {
     "data": {
      "text/plain": "735274"
     },
     "execution_count": 12,
     "metadata": {},
     "output_type": "execute_result"
    }
   ],
   "source": [
    "reviews.count().compute()"
   ]
  },
  {
   "cell_type": "code",
   "execution_count": 13,
   "metadata": {
    "colab": {
     "base_uri": "https://localhost:8080/"
    },
    "id": "6uzQor_yrdjO",
    "outputId": "c7d9a13c-8b33-4f31-9505-c3a35dee07c9"
   },
   "outputs": [
    {
     "data": {
      "text/plain": "735274"
     },
     "execution_count": 13,
     "metadata": {},
     "output_type": "execute_result"
    }
   ],
   "source": [
    "r_1415.count().compute()"
   ]
  },
  {
   "cell_type": "markdown",
   "metadata": {
    "id": "4WDKiB8yKGxL"
   },
   "source": [
    "7. Посчитайте, как часто в наборе, полученном в задании 5, встречается та или иная оценка."
   ]
  },
  {
   "cell_type": "code",
   "execution_count": 14,
   "metadata": {
    "id": "RIAByEUSu9Sn"
   },
   "outputs": [],
   "source": [
    "fr = reviews.map(lambda x: x['rating']).frequencies()"
   ]
  },
  {
   "cell_type": "code",
   "execution_count": 15,
   "metadata": {
    "colab": {
     "base_uri": "https://localhost:8080/"
    },
    "id": "L7nueLr9v8d_",
    "outputId": "52989fe0-e0c0-4668-fbe1-2fd42e785545"
   },
   "outputs": [
    {
     "data": {
      "text/plain": "[(0, 42472), (1, 9246), (2, 9380), (3, 26532), (4, 119413), (5, 528231)]"
     },
     "execution_count": 15,
     "metadata": {},
     "output_type": "execute_result"
    }
   ],
   "source": [
    "fr.compute()"
   ]
  },
  {
   "cell_type": "markdown",
   "metadata": {
    "id": "lsHlllyzKGxM"
   },
   "source": [
    "8. Найдите среднее значение `rating` в наборе, полученном в задании 5."
   ]
  },
  {
   "cell_type": "code",
   "execution_count": 16,
   "metadata": {
    "colab": {
     "base_uri": "https://localhost:8080/"
    },
    "id": "D9VVOvgLvWW_",
    "outputId": "766bd2bb-47fd-439c-90ec-261e0e834203"
   },
   "outputs": [
    {
     "data": {
      "text/plain": "4.388036296673077"
     },
     "execution_count": 16,
     "metadata": {},
     "output_type": "execute_result"
    }
   ],
   "source": [
    "reviews.map(lambda x: x['rating']).mean().compute()"
   ]
  },
  {
   "cell_type": "markdown",
   "metadata": {
    "id": "2lk1H0faKGxN"
   },
   "source": [
    "9. Используя метод `foldby`, подсчитать максимальную длину отзывов в зависимости от оценки `rating` в наборе, полученном в задании 5."
   ]
  },
  {
   "cell_type": "code",
   "execution_count": 33,
   "outputs": [
    {
     "data": {
      "text/plain": "[(0, 6548), (1, 2868), (2, 2834), (3, 3174), (4, 6548), (5, 5343)]"
     },
     "execution_count": 33,
     "metadata": {},
     "output_type": "execute_result"
    }
   ],
   "source": [
    "reviews.foldby('rating', lambda t, x: max(t, len(x['review'])), initial=0, combine=lambda t, x: max(t, x)).compute()"
   ],
   "metadata": {
    "collapsed": false,
    "pycharm": {
     "name": "#%%\n"
    }
   }
  },
  {
   "cell_type": "markdown",
   "source": [],
   "metadata": {
    "collapsed": false
   }
  }
 ],
 "metadata": {
  "colab": {
   "name": "12_dask_bag_Баранюк_Андрей_ПИ18-2.ipynb",
   "provenance": []
  },
  "kernelspec": {
   "display_name": "Python 3 (ipykernel)",
   "language": "python",
   "name": "python3"
  },
  "language_info": {
   "codemirror_mode": {
    "name": "ipython",
    "version": 3
   },
   "file_extension": ".py",
   "mimetype": "text/x-python",
   "name": "python",
   "nbconvert_exporter": "python",
   "pygments_lexer": "ipython3",
   "version": "3.8.9"
  }
 },
 "nbformat": 4,
 "nbformat_minor": 1
}