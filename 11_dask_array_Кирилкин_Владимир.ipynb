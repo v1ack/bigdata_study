{
 "cells": [
  {
   "cell_type": "markdown",
   "metadata": {},
   "source": [
    "# Dask Array"
   ]
  },
  {
   "cell_type": "markdown",
   "metadata": {},
   "source": [
    "Материалы:\n",
    "* Макрушин С.В. Лекция 11: Dask\n",
    "* https://docs.dask.org/en/latest/array.html\n",
    "* JESSE C. DANIEL. Data Science with Python and Dask. "
   ]
  },
  {
   "cell_type": "markdown",
   "metadata": {},
   "source": [
    "## Задачи для совместного разбора"
   ]
  },
  {
   "cell_type": "markdown",
   "metadata": {},
   "source": [
    "1. Создайте массив размерностью 1000 на 300000, заполненный числами из стандартного нормального распределения. Исследуйте основные характеристики полученного массива."
   ]
  },
  {
   "cell_type": "markdown",
   "metadata": {},
   "source": [
    "2. Посчитайте сумму квадратов элементов массива, созданного в задаче 1. Создайте массив `np.array` такого же размера и сравните скорость решения задачи с использование `da.array` и `np.array`"
   ]
  },
  {
   "cell_type": "markdown",
   "metadata": {},
   "source": [
    "3. Визуализируйте граф вычислений для задачи 2."
   ]
  },
  {
   "cell_type": "markdown",
   "metadata": {},
   "source": [
    "## Лабораторная работа 11"
   ]
  },
  {
   "cell_type": "code",
   "execution_count": 1,
   "metadata": {},
   "outputs": [],
   "source": [
    "import dask.array as da\n",
    "import h5py\n",
    "import numpy as np"
   ]
  },
  {
   "cell_type": "markdown",
   "metadata": {},
   "source": [
    "1. Считайте датасет `recipe` из файла `minutes_n_ingredients_full.hdf5` в виде `dask.array`. Укажите аргумент `chunks=(100_000, 3)` при создании массива. Выведите на экран основную информацию о массиве."
   ]
  },
  {
   "cell_type": "code",
   "execution_count": 2,
   "outputs": [],
   "source": [
    "f = h5py.File('minutes_n_ingredients_full.hdf5')\n",
    "d = f['recipe']\n",
    "recipes = da.from_array(d, (100_000, 3))"
   ],
   "metadata": {
    "collapsed": false,
    "pycharm": {
     "name": "#%%\n"
    }
   }
  },
  {
   "cell_type": "code",
   "execution_count": 3,
   "outputs": [
    {
     "data": {
      "text/plain": "dask.array<array, shape=(2231637, 3), dtype=int64, chunksize=(100000, 3), chunktype=numpy.ndarray>",
      "text/html": "<table>\n    <tr>\n        <td>\n            <table>\n                <thead>\n                    <tr>\n                        <td> </td>\n                        <th> Array </th>\n                        <th> Chunk </th>\n                    </tr>\n                </thead>\n                <tbody>\n                    \n                    <tr>\n                        <th> Bytes </th>\n                        <td> 51.08 MiB </td>\n                        <td> 2.29 MiB </td>\n                    </tr>\n                    \n                    <tr>\n                        <th> Shape </th>\n                        <td> (2231637, 3) </td>\n                        <td> (100000, 3) </td>\n                    </tr>\n                    <tr>\n                        <th> Count </th>\n                        <td> 24 Tasks </td>\n                        <td> 23 Chunks </td>\n                    </tr>\n                    <tr>\n                    <th> Type </th>\n                    <td> int64 </td>\n                    <td> numpy.ndarray </td>\n                    </tr>\n                </tbody>\n            </table>\n        </td>\n        <td>\n        <svg width=\"75\" height=\"170\" style=\"stroke:rgb(0,0,0);stroke-width:1\" >\n\n  <!-- Horizontal lines -->\n  <line x1=\"0\" y1=\"0\" x2=\"25\" y2=\"0\" style=\"stroke-width:2\" />\n  <line x1=\"0\" y1=\"5\" x2=\"25\" y2=\"5\" />\n  <line x1=\"0\" y1=\"10\" x2=\"25\" y2=\"10\" />\n  <line x1=\"0\" y1=\"16\" x2=\"25\" y2=\"16\" />\n  <line x1=\"0\" y1=\"21\" x2=\"25\" y2=\"21\" />\n  <line x1=\"0\" y1=\"32\" x2=\"25\" y2=\"32\" />\n  <line x1=\"0\" y1=\"37\" x2=\"25\" y2=\"37\" />\n  <line x1=\"0\" y1=\"43\" x2=\"25\" y2=\"43\" />\n  <line x1=\"0\" y1=\"48\" x2=\"25\" y2=\"48\" />\n  <line x1=\"0\" y1=\"53\" x2=\"25\" y2=\"53\" />\n  <line x1=\"0\" y1=\"64\" x2=\"25\" y2=\"64\" />\n  <line x1=\"0\" y1=\"69\" x2=\"25\" y2=\"69\" />\n  <line x1=\"0\" y1=\"75\" x2=\"25\" y2=\"75\" />\n  <line x1=\"0\" y1=\"80\" x2=\"25\" y2=\"80\" />\n  <line x1=\"0\" y1=\"86\" x2=\"25\" y2=\"86\" />\n  <line x1=\"0\" y1=\"96\" x2=\"25\" y2=\"96\" />\n  <line x1=\"0\" y1=\"102\" x2=\"25\" y2=\"102\" />\n  <line x1=\"0\" y1=\"107\" x2=\"25\" y2=\"107\" />\n  <line x1=\"0\" y1=\"112\" x2=\"25\" y2=\"112\" />\n  <line x1=\"0\" y1=\"120\" x2=\"25\" y2=\"120\" style=\"stroke-width:2\" />\n\n  <!-- Vertical lines -->\n  <line x1=\"0\" y1=\"0\" x2=\"0\" y2=\"120\" style=\"stroke-width:2\" />\n  <line x1=\"25\" y1=\"0\" x2=\"25\" y2=\"120\" style=\"stroke-width:2\" />\n\n  <!-- Colored Rectangle -->\n  <polygon points=\"0.0,0.0 25.412616514582485,0.0 25.412616514582485,120.0 0.0,120.0\" style=\"fill:#8B4903A0;stroke-width:0\"/>\n\n  <!-- Text -->\n  <text x=\"12.706308\" y=\"140.000000\" font-size=\"1.0rem\" font-weight=\"100\" text-anchor=\"middle\" >3</text>\n  <text x=\"45.412617\" y=\"60.000000\" font-size=\"1.0rem\" font-weight=\"100\" text-anchor=\"middle\" transform=\"rotate(-90,45.412617,60.000000)\">2231637</text>\n</svg>\n        </td>\n    </tr>\n</table>"
     },
     "execution_count": 3,
     "metadata": {},
     "output_type": "execute_result"
    }
   ],
   "source": [
    "recipes"
   ],
   "metadata": {
    "collapsed": false,
    "pycharm": {
     "name": "#%%\n"
    }
   }
  },
  {
   "cell_type": "code",
   "execution_count": 11,
   "outputs": [
    {
     "data": {
      "text/plain": "array([1089012,      23,       5], dtype=int64)"
     },
     "execution_count": 11,
     "metadata": {},
     "output_type": "execute_result"
    }
   ],
   "source": [
    "recipes[1].compute()"
   ],
   "metadata": {
    "collapsed": false,
    "pycharm": {
     "name": "#%%\n"
    }
   }
  },
  {
   "cell_type": "markdown",
   "source": [
    "|id|minutes|n_ingridients|\n",
    "|---|---|---|\n",
    "|1089012|23|5|"
   ],
   "metadata": {
    "collapsed": false
   }
  },
  {
   "cell_type": "markdown",
   "metadata": {},
   "source": [
    "2. Вычислите среднее значение по каждому столбцу, кроме первого. "
   ]
  },
  {
   "cell_type": "code",
   "execution_count": 4,
   "outputs": [
    {
     "name": "stdout",
     "output_type": "stream",
     "text": [
      "1004.2080517575215\n",
      "5.419800800936711\n"
     ]
    }
   ],
   "source": [
    "print(recipes[:, 1].mean().compute())\n",
    "print(recipes[:, 2].mean().compute())"
   ],
   "metadata": {
    "collapsed": false,
    "pycharm": {
     "name": "#%%\n"
    }
   }
  },
  {
   "cell_type": "markdown",
   "metadata": {},
   "source": [
    "3. Исследуйте, как влияет значение аргумента `chunks` при создании `dask.array` на скорость выполнения операции поиска среднего. "
   ]
  },
  {
   "cell_type": "code",
   "execution_count": 5,
   "outputs": [
    {
     "data": {
      "text/plain": "(2231637, 3)"
     },
     "execution_count": 5,
     "metadata": {},
     "output_type": "execute_result"
    }
   ],
   "source": [
    "recipes.shape"
   ],
   "metadata": {
    "collapsed": false,
    "pycharm": {
     "name": "#%%\n"
    }
   }
  },
  {
   "cell_type": "code",
   "execution_count": 67,
   "outputs": [
    {
     "data": {
      "text/plain": "[(10000, 0.517362117767334),\n (25000, 0.08109331130981445),\n (50000, 0.056220054626464844),\n (100000, 0.049894094467163086),\n (250000, 0.05480194091796875),\n (500000, 0.04646778106689453),\n (1000000, 0.08265352249145508)]"
     },
     "execution_count": 67,
     "metadata": {},
     "output_type": "execute_result"
    }
   ],
   "source": [
    "from time import time\n",
    "\n",
    "times = []\n",
    "for i in [10_000, 25_000, 50_000, 100_000, 250_000, 500_000, 1_000_000]:\n",
    "    r = da.from_array(d, (i, 3))\n",
    "    start = time()\n",
    "    r[:, 1].mean().compute()\n",
    "    times.append((i, time() - start))\n",
    "times"
   ],
   "metadata": {
    "collapsed": false,
    "pycharm": {
     "name": "#%%\n"
    }
   }
  },
  {
   "cell_type": "markdown",
   "metadata": {},
   "source": [
    "4. Выберите рецепты, время выполнения которых меньше медианного значения"
   ]
  },
  {
   "cell_type": "code",
   "execution_count": 13,
   "outputs": [
    {
     "data": {
      "text/plain": "32.0"
     },
     "execution_count": 13,
     "metadata": {},
     "output_type": "execute_result"
    }
   ],
   "source": [
    "median = da.median(recipes[:, 1], axis=0).compute()\n",
    "median"
   ],
   "metadata": {
    "collapsed": false,
    "pycharm": {
     "name": "#%%\n"
    }
   }
  },
  {
   "cell_type": "code",
   "execution_count": 14,
   "outputs": [
    {
     "data": {
      "text/plain": "array([[1089012,      23,       5],\n       [1428572,       0,       5],\n       [1400250,      24,       1],\n       ...,\n       [1029131,      19,       4],\n       [1700703,       1,       1],\n       [ 713836,       0,       9]], dtype=int64)"
     },
     "execution_count": 14,
     "metadata": {},
     "output_type": "execute_result"
    }
   ],
   "source": [
    "recipes[recipes[:, 1] < median, :].compute()"
   ],
   "metadata": {
    "collapsed": false,
    "pycharm": {
     "name": "#%%\n"
    }
   }
  },
  {
   "cell_type": "markdown",
   "metadata": {},
   "source": [
    "5. Посчитайте количество каждого из возможных значений кол-ва ингредиентов"
   ]
  },
  {
   "cell_type": "code",
   "execution_count": 16,
   "outputs": [],
   "source": [
    "import pandas as pd"
   ],
   "metadata": {
    "collapsed": false,
    "pycharm": {
     "name": "#%%\n"
    }
   }
  },
  {
   "cell_type": "code",
   "execution_count": 69,
   "outputs": [
    {
     "data": {
      "text/plain": "   value   count\n0      1  222071\n1      2  224158\n2      3  229388\n3      4  234948\n4      5  240720\n5      6  244360\n6      7  247181\n7      8  246747\n8     43  342064",
      "text/html": "<div>\n<style scoped>\n    .dataframe tbody tr th:only-of-type {\n        vertical-align: middle;\n    }\n\n    .dataframe tbody tr th {\n        vertical-align: top;\n    }\n\n    .dataframe thead th {\n        text-align: right;\n    }\n</style>\n<table border=\"1\" class=\"dataframe\">\n  <thead>\n    <tr style=\"text-align: right;\">\n      <th></th>\n      <th>value</th>\n      <th>count</th>\n    </tr>\n  </thead>\n  <tbody>\n    <tr>\n      <th>0</th>\n      <td>1</td>\n      <td>222071</td>\n    </tr>\n    <tr>\n      <th>1</th>\n      <td>2</td>\n      <td>224158</td>\n    </tr>\n    <tr>\n      <th>2</th>\n      <td>3</td>\n      <td>229388</td>\n    </tr>\n    <tr>\n      <th>3</th>\n      <td>4</td>\n      <td>234948</td>\n    </tr>\n    <tr>\n      <th>4</th>\n      <td>5</td>\n      <td>240720</td>\n    </tr>\n    <tr>\n      <th>5</th>\n      <td>6</td>\n      <td>244360</td>\n    </tr>\n    <tr>\n      <th>6</th>\n      <td>7</td>\n      <td>247181</td>\n    </tr>\n    <tr>\n      <th>7</th>\n      <td>8</td>\n      <td>246747</td>\n    </tr>\n    <tr>\n      <th>8</th>\n      <td>43</td>\n      <td>342064</td>\n    </tr>\n  </tbody>\n</table>\n</div>"
     },
     "execution_count": 69,
     "metadata": {},
     "output_type": "execute_result"
    }
   ],
   "source": [
    "values, counts = da.unique(recipes[:, 2], return_counts=True)\n",
    "pd.DataFrame({\"value\": values.compute(), \"count\": counts.compute()})"
   ],
   "metadata": {
    "collapsed": false,
    "pycharm": {
     "name": "#%%\n"
    }
   }
  },
  {
   "cell_type": "markdown",
   "metadata": {},
   "source": [
    "6. Найдите максимальную продолжительность рецепта. Ограничьте максимальную продолжительность рецептов сверху значением, равному 75% квантилю."
   ]
  },
  {
   "cell_type": "code",
   "execution_count": 70,
   "outputs": [
    {
     "data": {
      "text/plain": "2147483647"
     },
     "execution_count": 70,
     "metadata": {},
     "output_type": "execute_result"
    }
   ],
   "source": [
    "mx = da.max(recipes[:, 1]).compute()\n",
    "mx"
   ],
   "metadata": {
    "collapsed": false,
    "pycharm": {
     "name": "#%%\n"
    }
   }
  },
  {
   "cell_type": "code",
   "execution_count": 71,
   "outputs": [
    {
     "data": {
      "text/plain": "49.0"
     },
     "execution_count": 71,
     "metadata": {},
     "output_type": "execute_result"
    }
   ],
   "source": [
    "q75 = recipes.to_dask_dataframe()[1].quantile(0.75).compute()\n",
    "q75"
   ],
   "metadata": {
    "collapsed": false,
    "pycharm": {
     "name": "#%%\n"
    }
   }
  },
  {
   "cell_type": "code",
   "execution_count": 74,
   "outputs": [],
   "source": [
    "recipes[recipes[:, 1] > q75, 1] = q75"
   ],
   "metadata": {
    "collapsed": false,
    "pycharm": {
     "name": "#%%\n"
    }
   }
  },
  {
   "cell_type": "code",
   "execution_count": 75,
   "outputs": [
    {
     "data": {
      "text/plain": "array([], dtype=int64)"
     },
     "execution_count": 75,
     "metadata": {},
     "output_type": "execute_result"
    }
   ],
   "source": [
    "recipes[recipes[:, 1] > q75, 1].compute()"
   ],
   "metadata": {
    "collapsed": false,
    "pycharm": {
     "name": "#%%\n"
    }
   }
  },
  {
   "cell_type": "markdown",
   "metadata": {
    "pycharm": {
     "name": "#%% md\n"
    }
   },
   "source": [
    "7. Создайте массив `dask.array` из 2 чисел, содержащих ваши предпочтения относительно времени выполнения рецепта и кол-ва ингредиентов. Найдите наиболее похожий (в смысле $L_1$) рецепт из имеющихся в датасете."
   ]
  },
  {
   "cell_type": "code",
   "execution_count": 41,
   "outputs": [],
   "source": [
    "a = da.from_array([15, 2])"
   ],
   "metadata": {
    "collapsed": false,
    "pycharm": {
     "name": "#%%\n"
    }
   }
  },
  {
   "cell_type": "code",
   "execution_count": 42,
   "outputs": [
    {
     "data": {
      "text/plain": "array([1511513,      15,       2], dtype=int64)"
     },
     "execution_count": 42,
     "metadata": {},
     "output_type": "execute_result"
    }
   ],
   "source": [
    "recipes[da.fabs((a - recipes[:, 1:])).sum(axis=1).argmin()].compute()"
   ],
   "metadata": {
    "collapsed": false,
    "pycharm": {
     "name": "#%%\n"
    }
   }
  },
  {
   "cell_type": "markdown",
   "metadata": {},
   "source": [
    "8. Работая с исходным файлом в формате `hdf5`, реализуйте алгоритм подсчета среднего значения в блочной форме и вычислите с его помощью среднее значение второго столбца в массиве.\n",
    "\n",
    "Блочный алгоритм вычислений состоит из двух частей:\n",
    "1. загрузка фрагмента за фрагментом данных по `blocksize` элементов и проведение вычислений на этим фрагментом;\n",
    "2. агрегация результатов вычислений на различных фрагментах для получения результата на уровне всего набора данных.\n",
    "\n",
    "Важно: при работе с `h5py` в память загружаются не все элементы, а только те, которые запрашиваются в данный момент"
   ]
  },
  {
   "cell_type": "code",
   "execution_count": 62,
   "metadata": {},
   "outputs": [],
   "source": [
    "f = h5py.File('minutes_n_ingredients_full.hdf5')\n",
    "ds = f['recipe']"
   ]
  },
  {
   "cell_type": "code",
   "execution_count": 63,
   "outputs": [],
   "source": [
    "def mean(dataset, blocksize, column):\n",
    "    sum_size = []\n",
    "    for i in range(0, dataset.shape[0] + 1, blocksize):\n",
    "        end = (i + blocksize if (i + blocksize <= dataset.shape[0] + 1) else dataset.shape[0] + 1)\n",
    "        sum_size.append((dataset[i:end, column].sum(), end - i))\n",
    "    return sum([a[0] for a in sum_size]) / dataset.shape[0]"
   ],
   "metadata": {
    "collapsed": false,
    "pycharm": {
     "name": "#%%\n"
    }
   }
  },
  {
   "cell_type": "code",
   "execution_count": 64,
   "outputs": [
    {
     "name": "stdout",
     "output_type": "stream",
     "text": [
      "Wall time: 0 ns\n"
     ]
    },
    {
     "data": {
      "text/plain": "1004.2080517575215"
     },
     "execution_count": 64,
     "metadata": {},
     "output_type": "execute_result"
    }
   ],
   "source": [
    "%time\n",
    "mean(ds, 500_000, 1)"
   ],
   "metadata": {
    "collapsed": false,
    "pycharm": {
     "name": "#%%\n"
    }
   }
  },
  {
   "cell_type": "code",
   "execution_count": 61,
   "outputs": [
    {
     "name": "stdout",
     "output_type": "stream",
     "text": [
      "Wall time: 0 ns\n"
     ]
    },
    {
     "data": {
      "text/plain": "1004.2080517575215"
     },
     "execution_count": 61,
     "metadata": {},
     "output_type": "execute_result"
    }
   ],
   "source": [
    "%time\n",
    "recipes[:, 1].mean().compute()"
   ],
   "metadata": {
    "collapsed": false,
    "pycharm": {
     "name": "#%%\n"
    }
   }
  },
  {
   "cell_type": "code",
   "execution_count": 1,
   "outputs": [
    {
     "data": {
      "text/plain": "dask.array<random_sample, shape=(10000, 1000), dtype=float64, chunksize=(1000, 1000), chunktype=numpy.ndarray>",
      "text/html": "<table>\n    <tr>\n        <td>\n            <table>\n                <thead>\n                    <tr>\n                        <td> </td>\n                        <th> Array </th>\n                        <th> Chunk </th>\n                    </tr>\n                </thead>\n                <tbody>\n                    \n                    <tr>\n                        <th> Bytes </th>\n                        <td> 76.29 MiB </td>\n                        <td> 7.63 MiB </td>\n                    </tr>\n                    \n                    <tr>\n                        <th> Shape </th>\n                        <td> (10000, 1000) </td>\n                        <td> (1000, 1000) </td>\n                    </tr>\n                    <tr>\n                        <th> Count </th>\n                        <td> 10 Tasks </td>\n                        <td> 10 Chunks </td>\n                    </tr>\n                    <tr>\n                    <th> Type </th>\n                    <td> float64 </td>\n                    <td> numpy.ndarray </td>\n                    </tr>\n                </tbody>\n            </table>\n        </td>\n        <td>\n        <svg width=\"88\" height=\"170\" style=\"stroke:rgb(0,0,0);stroke-width:1\" >\n\n  <!-- Horizontal lines -->\n  <line x1=\"0\" y1=\"0\" x2=\"38\" y2=\"0\" style=\"stroke-width:2\" />\n  <line x1=\"0\" y1=\"12\" x2=\"38\" y2=\"12\" />\n  <line x1=\"0\" y1=\"24\" x2=\"38\" y2=\"24\" />\n  <line x1=\"0\" y1=\"36\" x2=\"38\" y2=\"36\" />\n  <line x1=\"0\" y1=\"48\" x2=\"38\" y2=\"48\" />\n  <line x1=\"0\" y1=\"60\" x2=\"38\" y2=\"60\" />\n  <line x1=\"0\" y1=\"72\" x2=\"38\" y2=\"72\" />\n  <line x1=\"0\" y1=\"84\" x2=\"38\" y2=\"84\" />\n  <line x1=\"0\" y1=\"96\" x2=\"38\" y2=\"96\" />\n  <line x1=\"0\" y1=\"108\" x2=\"38\" y2=\"108\" />\n  <line x1=\"0\" y1=\"120\" x2=\"38\" y2=\"120\" style=\"stroke-width:2\" />\n\n  <!-- Vertical lines -->\n  <line x1=\"0\" y1=\"0\" x2=\"0\" y2=\"120\" style=\"stroke-width:2\" />\n  <line x1=\"38\" y1=\"0\" x2=\"38\" y2=\"120\" style=\"stroke-width:2\" />\n\n  <!-- Colored Rectangle -->\n  <polygon points=\"0.0,0.0 38.596863036086,0.0 38.596863036086,120.0 0.0,120.0\" style=\"fill:#ECB172A0;stroke-width:0\"/>\n\n  <!-- Text -->\n  <text x=\"19.298432\" y=\"140.000000\" font-size=\"1.0rem\" font-weight=\"100\" text-anchor=\"middle\" >1000</text>\n  <text x=\"58.596863\" y=\"60.000000\" font-size=\"1.0rem\" font-weight=\"100\" text-anchor=\"middle\" transform=\"rotate(-90,58.596863,60.000000)\">10000</text>\n</svg>\n        </td>\n    </tr>\n</table>"
     },
     "execution_count": 1,
     "metadata": {},
     "output_type": "execute_result"
    }
   ],
   "source": [
    "import dask.array as da\n",
    "x = da.random.random((10_000, 1_000), chunks=(1000, 1000))\n",
    "x"
   ],
   "metadata": {
    "collapsed": false,
    "pycharm": {
     "name": "#%%\n"
    }
   }
  },
  {
   "cell_type": "code",
   "execution_count": 21,
   "outputs": [
    {
     "data": {
      "text/plain": "dask.array<random_integers, shape=(100, 1000), dtype=int32, chunksize=(100, 1000), chunktype=numpy.ndarray>",
      "text/html": "<table>\n    <tr>\n        <td>\n            <table>\n                <thead>\n                    <tr>\n                        <td> </td>\n                        <th> Array </th>\n                        <th> Chunk </th>\n                    </tr>\n                </thead>\n                <tbody>\n                    \n                    <tr>\n                        <th> Bytes </th>\n                        <td> 390.62 kiB </td>\n                        <td> 390.62 kiB </td>\n                    </tr>\n                    \n                    <tr>\n                        <th> Shape </th>\n                        <td> (100, 1000) </td>\n                        <td> (100, 1000) </td>\n                    </tr>\n                    <tr>\n                        <th> Count </th>\n                        <td> 1 Tasks </td>\n                        <td> 1 Chunks </td>\n                    </tr>\n                    <tr>\n                    <th> Type </th>\n                    <td> int32 </td>\n                    <td> numpy.ndarray </td>\n                    </tr>\n                </tbody>\n            </table>\n        </td>\n        <td>\n        <svg width=\"170\" height=\"88\" style=\"stroke:rgb(0,0,0);stroke-width:1\" >\n\n  <!-- Horizontal lines -->\n  <line x1=\"0\" y1=\"0\" x2=\"120\" y2=\"0\" style=\"stroke-width:2\" />\n  <line x1=\"0\" y1=\"38\" x2=\"120\" y2=\"38\" style=\"stroke-width:2\" />\n\n  <!-- Vertical lines -->\n  <line x1=\"0\" y1=\"0\" x2=\"0\" y2=\"38\" style=\"stroke-width:2\" />\n  <line x1=\"120\" y1=\"0\" x2=\"120\" y2=\"38\" style=\"stroke-width:2\" />\n\n  <!-- Colored Rectangle -->\n  <polygon points=\"0.0,0.0 120.0,0.0 120.0,38.596863036086 0.0,38.596863036086\" style=\"fill:#ECB172A0;stroke-width:0\"/>\n\n  <!-- Text -->\n  <text x=\"60.000000\" y=\"58.596863\" font-size=\"1.0rem\" font-weight=\"100\" text-anchor=\"middle\" >1000</text>\n  <text x=\"140.000000\" y=\"19.298432\" font-size=\"1.0rem\" font-weight=\"100\" text-anchor=\"middle\" transform=\"rotate(-90,140.000000,19.298432)\">100</text>\n</svg>\n        </td>\n    </tr>\n</table>"
     },
     "execution_count": 21,
     "metadata": {},
     "output_type": "execute_result"
    }
   ],
   "source": [
    "rn = da.random.random_integers(0, 10,(100, 1_000))\n",
    "rn"
   ],
   "metadata": {
    "collapsed": false,
    "pycharm": {
     "name": "#%%\n"
    }
   }
  },
  {
   "cell_type": "code",
   "execution_count": 22,
   "outputs": [],
   "source": [
    "a = rn.mean(0).compute()"
   ],
   "metadata": {
    "collapsed": false,
    "pycharm": {
     "name": "#%%\n"
    }
   }
  },
  {
   "cell_type": "code",
   "execution_count": 23,
   "outputs": [
    {
     "data": {
      "text/plain": "1"
     },
     "execution_count": 23,
     "metadata": {},
     "output_type": "execute_result"
    }
   ],
   "source": [
    "sum(a > 6)"
   ],
   "metadata": {
    "collapsed": false,
    "pycharm": {
     "name": "#%%\n"
    }
   }
  },
  {
   "cell_type": "code",
   "execution_count": 24,
   "outputs": [
    {
     "data": {
      "text/plain": "1"
     },
     "execution_count": 24,
     "metadata": {},
     "output_type": "execute_result"
    }
   ],
   "source": [
    "sum(i>6 for i in a)"
   ],
   "metadata": {
    "collapsed": false,
    "pycharm": {
     "name": "#%%\n"
    }
   }
  }
 ],
 "metadata": {
  "kernelspec": {
   "display_name": "Python 3 (ipykernel)",
   "language": "python",
   "name": "python3"
  },
  "language_info": {
   "codemirror_mode": {
    "name": "ipython",
    "version": 3
   },
   "file_extension": ".py",
   "mimetype": "text/x-python",
   "name": "python",
   "nbconvert_exporter": "python",
   "pygments_lexer": "ipython3",
   "version": "3.8.3"
  }
 },
 "nbformat": 4,
 "nbformat_minor": 4
}